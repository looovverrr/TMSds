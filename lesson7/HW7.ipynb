{
 "cells": [
  {
   "cell_type": "code",
   "execution_count": 5,
   "id": "8d983208-dc05-4844-bd2b-17cf4ed79cc0",
   "metadata": {},
   "outputs": [],
   "source": [
    "class Money:\n",
    "    def __init__(self,rubly,kopejki):\n",
    "        self.rubly= rubly\n",
    "        self.kopejki= kopejki\n",
    "    def __add__(self,mon_2):\n",
    "        total_kopejki= self.kopejki+mon_2.kopejki\n",
    "        total_rubly= self.rubly+mon_2.rubly\n",
    "        if total_kopejki%100>0:\n",
    "            total_rubly+=total_kopejki//100\n",
    "            ostatok= total_kopejki%100\n",
    "            return Money(total_rubly,ostatok)\n",
    "    def __str__(self):\n",
    "        return f\"{self.rubly},{self.kopejki:02d}\"\n",
    "    def __sub__(self,mon_2):\n",
    "        total_kopejki= self.kopejki-mon_2.kopejki\n",
    "        total_rubly= self.rubly-mon_2.rubly\n",
    "        if total_kopejki<0:\n",
    "            total_rubly=total_rubly-1\n",
    "            total_kopejki= 100-abs(total_kopejki)\n",
    "        return Money(total_rubly,total_kopejki)\n",
    "    def __truediv__(self, other):\n",
    "        total_kopejki_self = self.rubly * 100 + self.kopejki\n",
    "        total_kopejki_other = other.rubly * 100 + other.kopejki\n",
    "        result = total_kopejki_self / total_kopejki_other\n",
    "        rubly_result = int(result)\n",
    "        kopejki_result = round((result - rubly_result) * 100)\n",
    "        return Money(rubly_result, kopejki_result)\n",
    "\n",
    "    def __mul__(self, other):\n",
    "        total_kopejki_self = self.rubly * 100 + self.kopejki\n",
    "        result = total_kopejki_self * other\n",
    "        rubly_result = result // 100\n",
    "        kopejki_result = result % 100\n",
    "        return Money(rubly_result, kopejki_result)\n",
    "\n",
    "    def __eq__(self, other):\n",
    "        return self.rubly == other.rubly and self.kopejki == other.kopejki\n",
    "\n",
    "    def __lt__(self, other):\n",
    "        total_kopejki_self = self.rubly * 100 + self.kopejki\n",
    "        total_kopejki_other = other.rubly * 100 + other.kopejki\n",
    "        return total_kopejki_self < total_kopejki_other\n",
    "\n",
    "    def __gt__(self, other):\n",
    "        total_kopejki_self = self.rubly * 100 + self.kopejki\n",
    "        total_kopejki_other = other.rubly * 100 + other.kopejki\n",
    "        return total_kopejki_self > total_kopejki_other\n",
    "        \n",
    "    \n",
    "\n",
    "        "
   ]
  },
  {
   "cell_type": "code",
   "execution_count": 6,
   "id": "f2dee8c3-80c8-44d0-92ab-e10609086d13",
   "metadata": {},
   "outputs": [
    {
     "name": "stdout",
     "output_type": "stream",
     "text": [
      "Денежная сумма 1: 10,80\n",
      "Денежная сумма 2: 5,30\n",
      "Сложение: 16,10\n",
      "Вычитание: 5,50\n",
      "Деление: 2,04\n",
      "Умножение на число: 21,60\n",
      "Сравнение (равно): False\n",
      "Сравнение (больше): True\n",
      "Сравнение (меньше): False\n"
     ]
    }
   ],
   "source": [
    "money1 = Money(10, 80)\n",
    "money2 = Money(5, 30)\n",
    "\n",
    "print(\"Денежная сумма 1:\", money1)\n",
    "print(\"Денежная сумма 2:\", money2)\n",
    "\n",
    "result_add = money1 + money2\n",
    "result_sub = money1 - money2\n",
    "result_div = money1 / money2\n",
    "result_mul = money1 * 2\n",
    "\n",
    "print(\"Сложение:\", result_add)\n",
    "print(\"Вычитание:\", result_sub)\n",
    "print(\"Деление:\", result_div)\n",
    "print(\"Умножение на число:\", result_mul)\n",
    "print(\"Сравнение (равно):\", money1 == money2)\n",
    "print(\"Сравнение (больше):\", money1 > money2)\n",
    "print(\"Сравнение (меньше):\", money1 < money2)"
   ]
  },
  {
   "cell_type": "code",
   "execution_count": 10,
   "id": "52f9a02f-0d2a-4bc1-aa32-8f835e2faa97",
   "metadata": {},
   "outputs": [],
   "source": [
    "class Matrix:\n",
    "    def __init__(self, matrix):\n",
    "        self.matrix = matrix\n",
    "\n",
    "    def __add__(self, other):\n",
    "        result = []\n",
    "        for i in range(len(self.matrix)):\n",
    "            row = []\n",
    "            for j in range(len(self.matrix[0])):\n",
    "                row.append(self.matrix[i][j] + other.matrix[i][j])\n",
    "            result.append(row)\n",
    "        return Matrix(result)\n",
    "\n",
    "    def __mul__(self, scalar):\n",
    "        result = []\n",
    "        for i in range(len(self.matrix)):\n",
    "            row = []\n",
    "            for j in range(len(self.matrix[0])):\n",
    "                row.append(self.matrix[i][j] * scalar)\n",
    "            result.append(row)\n",
    "        return Matrix(result)\n",
    "\n",
    "    def __str__(self):\n",
    "        result = \"\"\n",
    "        for row in self.matrix:\n",
    "            result += \" \".join(str(elem) for elem in row) + \"\\n\"\n",
    "        return result.strip()"
   ]
  },
  {
   "cell_type": "code",
   "execution_count": 11,
   "id": "611923d5-be25-4e9c-be83-df1990562097",
   "metadata": {},
   "outputs": [
    {
     "name": "stdout",
     "output_type": "stream",
     "text": [
      "Матрица 1:\n",
      "1 2\n",
      "3 4\n",
      "Матрица 2:\n",
      "5 6\n",
      "7 8\n",
      "Сложение матриц:\n",
      "6 8\n",
      "10 12\n",
      "Умножение матрицы на число:\n",
      "2 4\n",
      "6 8\n"
     ]
    }
   ],
   "source": [
    "matrix1 = Matrix([[1, 2], [3, 4]])\n",
    "matrix2 = Matrix([[5, 6], [7, 8]])\n",
    "\n",
    "print(\"Матрица 1:\")\n",
    "print(matrix1)\n",
    "\n",
    "print(\"Матрица 2:\")\n",
    "print(matrix2)\n",
    "\n",
    "result_add_matrix = matrix1 + matrix2\n",
    "result_mul_matrix = matrix1 * 2\n",
    "\n",
    "print(\"Сложение матриц:\")\n",
    "print(result_add_matrix)\n",
    "\n",
    "print(\"Умножение матрицы на число:\")\n",
    "print(result_mul_matrix)"
   ]
  },
  {
   "cell_type": "code",
   "execution_count": null,
   "id": "b96b6499-88bd-4472-8a2f-f37faccaf3b0",
   "metadata": {},
   "outputs": [],
   "source": []
  }
 ],
 "metadata": {
  "kernelspec": {
   "display_name": "Python 3 (ipykernel)",
   "language": "python",
   "name": "python3"
  },
  "language_info": {
   "codemirror_mode": {
    "name": "ipython",
    "version": 3
   },
   "file_extension": ".py",
   "mimetype": "text/x-python",
   "name": "python",
   "nbconvert_exporter": "python",
   "pygments_lexer": "ipython3",
   "version": "3.10.6"
  }
 },
 "nbformat": 4,
 "nbformat_minor": 5
}
