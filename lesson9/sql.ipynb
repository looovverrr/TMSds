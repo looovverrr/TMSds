{
  "cells": [
    {
      "cell_type": "code",
      "execution_count": null,
      "id": "79837c6c-e1aa-45f4-b47c-aef9eb95b878",
      "metadata": {
        "colab": {
          "base_uri": "https://localhost:8080/"
        },
        "id": "79837c6c-e1aa-45f4-b47c-aef9eb95b878",
        "outputId": "2aff0fb3-fd82-4f70-8ca0-6b112c98dbcc"
      },
      "outputs": [
        {
          "output_type": "stream",
          "name": "stdout",
          "text": [
            "Requirement already satisfied: sqlalchemy in /usr/local/lib/python3.10/dist-packages (2.0.27)\n",
            "Requirement already satisfied: typing-extensions>=4.6.0 in /usr/local/lib/python3.10/dist-packages (from sqlalchemy) (4.10.0)\n",
            "Requirement already satisfied: greenlet!=0.4.17 in /usr/local/lib/python3.10/dist-packages (from sqlalchemy) (3.0.3)\n"
          ]
        }
      ],
      "source": [
        "!pip install sqlalchemy"
      ]
    },
    {
      "cell_type": "code",
      "execution_count": null,
      "id": "abeb6915-24ec-4ec6-ba92-92d98fc8f7bf",
      "metadata": {
        "id": "abeb6915-24ec-4ec6-ba92-92d98fc8f7bf"
      },
      "outputs": [],
      "source": [
        "import sqlalchemy as db\n",
        "from sqlalchemy import create_engine, MetaData, Table, Column, Integer, Text, select, func, ForeignKey"
      ]
    },
    {
      "cell_type": "code",
      "execution_count": null,
      "id": "f9a91bc9-d213-425f-bc86-fbc80817a14a",
      "metadata": {
        "id": "f9a91bc9-d213-425f-bc86-fbc80817a14a"
      },
      "outputs": [],
      "source": [
        "engine = create_engine('sqlite:///mydb.db', echo=True)\n",
        "connection = engine.connect()\n",
        "metadata = MetaData()\n"
      ]
    },
    {
      "cell_type": "code",
      "execution_count": null,
      "id": "c85e688f-db9a-4ee0-b0b9-cc45ef96af32",
      "metadata": {
        "id": "c85e688f-db9a-4ee0-b0b9-cc45ef96af32"
      },
      "outputs": [],
      "source": [
        "cars = Table(\n",
        "    'Car', metadata,\n",
        "    Column('car_id', Integer, primary_key=True),\n",
        "    Column('car_name', Text),\n",
        "    Column('car_country', Text),\n",
        "    Column('car_mileage', Integer),\n",
        "    Column('car_price', Integer)\n",
        ")\n"
      ]
    },
    {
      "cell_type": "code",
      "execution_count": null,
      "id": "44a6182f-1df6-4a03-9610-a894b9388b85",
      "metadata": {
        "id": "44a6182f-1df6-4a03-9610-a894b9388b85"
      },
      "outputs": [],
      "source": [
        "customers = Table(\n",
        "    'Customers', metadata,\n",
        "    Column('customer_id', Integer, primary_key=True),\n",
        "    Column('customer_name', Text),\n",
        "    Column('customer_address', Text),\n",
        "    Column('customer_phone', Text)\n",
        ")"
      ]
    },
    {
      "cell_type": "code",
      "execution_count": null,
      "id": "6c8f7195-e263-4a92-93fa-7a64dd718e62",
      "metadata": {
        "id": "6c8f7195-e263-4a92-93fa-7a64dd718e62"
      },
      "outputs": [],
      "source": [
        "orders = Table(\n",
        "    'Orders', metadata,\n",
        "    Column('order_id', Integer, primary_key=True),\n",
        "    Column('car_id', Integer, ForeignKey('Car.car_id')),\n",
        "    Column('customer_id', Integer, ForeignKey('Customers.customer_id')),\n",
        "    Column('order_date', Text),\n",
        "    Column('order_quantity', Integer)\n",
        ")\n"
      ]
    },
    {
      "cell_type": "code",
      "execution_count": null,
      "id": "54e3920e-7c54-4649-9abf-666a6a75eee7",
      "metadata": {
        "id": "54e3920e-7c54-4649-9abf-666a6a75eee7"
      },
      "outputs": [],
      "source": [
        "dealers = Table(\n",
        "    'Dealers', metadata,\n",
        "    Column('dealer_id', Integer, primary_key=True),\n",
        "    Column('dealer_name', Text),\n",
        "    Column('dealer_location', Text),\n",
        "    Column('dealer_phone', Text)\n",
        ")\n"
      ]
    },
    {
      "cell_type": "code",
      "execution_count": null,
      "id": "35f28932-29b8-41af-ada5-45ccfe461543",
      "metadata": {
        "id": "35f28932-29b8-41af-ada5-45ccfe461543",
        "colab": {
          "base_uri": "https://localhost:8080/"
        },
        "outputId": "6796a053-2f81-4f9d-dda0-3f0c7fe79ac4"
      },
      "outputs": [
        {
          "output_type": "stream",
          "name": "stdout",
          "text": [
            "2024-03-04 14:51:21,452 INFO sqlalchemy.engine.Engine BEGIN (implicit)\n"
          ]
        },
        {
          "output_type": "stream",
          "name": "stderr",
          "text": [
            "INFO:sqlalchemy.engine.Engine:BEGIN (implicit)\n"
          ]
        },
        {
          "output_type": "stream",
          "name": "stdout",
          "text": [
            "2024-03-04 14:51:21,457 INFO sqlalchemy.engine.Engine PRAGMA main.table_info(\"Car\")\n"
          ]
        },
        {
          "output_type": "stream",
          "name": "stderr",
          "text": [
            "INFO:sqlalchemy.engine.Engine:PRAGMA main.table_info(\"Car\")\n"
          ]
        },
        {
          "output_type": "stream",
          "name": "stdout",
          "text": [
            "2024-03-04 14:51:21,459 INFO sqlalchemy.engine.Engine [raw sql] ()\n"
          ]
        },
        {
          "output_type": "stream",
          "name": "stderr",
          "text": [
            "INFO:sqlalchemy.engine.Engine:[raw sql] ()\n"
          ]
        },
        {
          "output_type": "stream",
          "name": "stdout",
          "text": [
            "2024-03-04 14:51:21,464 INFO sqlalchemy.engine.Engine PRAGMA temp.table_info(\"Car\")\n"
          ]
        },
        {
          "output_type": "stream",
          "name": "stderr",
          "text": [
            "INFO:sqlalchemy.engine.Engine:PRAGMA temp.table_info(\"Car\")\n"
          ]
        },
        {
          "output_type": "stream",
          "name": "stdout",
          "text": [
            "2024-03-04 14:51:21,471 INFO sqlalchemy.engine.Engine [raw sql] ()\n"
          ]
        },
        {
          "output_type": "stream",
          "name": "stderr",
          "text": [
            "INFO:sqlalchemy.engine.Engine:[raw sql] ()\n"
          ]
        },
        {
          "output_type": "stream",
          "name": "stdout",
          "text": [
            "2024-03-04 14:51:21,474 INFO sqlalchemy.engine.Engine PRAGMA main.table_info(\"Customers\")\n"
          ]
        },
        {
          "output_type": "stream",
          "name": "stderr",
          "text": [
            "INFO:sqlalchemy.engine.Engine:PRAGMA main.table_info(\"Customers\")\n"
          ]
        },
        {
          "output_type": "stream",
          "name": "stdout",
          "text": [
            "2024-03-04 14:51:21,476 INFO sqlalchemy.engine.Engine [raw sql] ()\n"
          ]
        },
        {
          "output_type": "stream",
          "name": "stderr",
          "text": [
            "INFO:sqlalchemy.engine.Engine:[raw sql] ()\n"
          ]
        },
        {
          "output_type": "stream",
          "name": "stdout",
          "text": [
            "2024-03-04 14:51:21,479 INFO sqlalchemy.engine.Engine PRAGMA temp.table_info(\"Customers\")\n"
          ]
        },
        {
          "output_type": "stream",
          "name": "stderr",
          "text": [
            "INFO:sqlalchemy.engine.Engine:PRAGMA temp.table_info(\"Customers\")\n"
          ]
        },
        {
          "output_type": "stream",
          "name": "stdout",
          "text": [
            "2024-03-04 14:51:21,482 INFO sqlalchemy.engine.Engine [raw sql] ()\n"
          ]
        },
        {
          "output_type": "stream",
          "name": "stderr",
          "text": [
            "INFO:sqlalchemy.engine.Engine:[raw sql] ()\n"
          ]
        },
        {
          "output_type": "stream",
          "name": "stdout",
          "text": [
            "2024-03-04 14:51:21,485 INFO sqlalchemy.engine.Engine PRAGMA main.table_info(\"Orders\")\n"
          ]
        },
        {
          "output_type": "stream",
          "name": "stderr",
          "text": [
            "INFO:sqlalchemy.engine.Engine:PRAGMA main.table_info(\"Orders\")\n"
          ]
        },
        {
          "output_type": "stream",
          "name": "stdout",
          "text": [
            "2024-03-04 14:51:21,487 INFO sqlalchemy.engine.Engine [raw sql] ()\n"
          ]
        },
        {
          "output_type": "stream",
          "name": "stderr",
          "text": [
            "INFO:sqlalchemy.engine.Engine:[raw sql] ()\n"
          ]
        },
        {
          "output_type": "stream",
          "name": "stdout",
          "text": [
            "2024-03-04 14:51:21,490 INFO sqlalchemy.engine.Engine PRAGMA temp.table_info(\"Orders\")\n"
          ]
        },
        {
          "output_type": "stream",
          "name": "stderr",
          "text": [
            "INFO:sqlalchemy.engine.Engine:PRAGMA temp.table_info(\"Orders\")\n"
          ]
        },
        {
          "output_type": "stream",
          "name": "stdout",
          "text": [
            "2024-03-04 14:51:21,493 INFO sqlalchemy.engine.Engine [raw sql] ()\n"
          ]
        },
        {
          "output_type": "stream",
          "name": "stderr",
          "text": [
            "INFO:sqlalchemy.engine.Engine:[raw sql] ()\n"
          ]
        },
        {
          "output_type": "stream",
          "name": "stdout",
          "text": [
            "2024-03-04 14:51:21,496 INFO sqlalchemy.engine.Engine PRAGMA main.table_info(\"Dealers\")\n"
          ]
        },
        {
          "output_type": "stream",
          "name": "stderr",
          "text": [
            "INFO:sqlalchemy.engine.Engine:PRAGMA main.table_info(\"Dealers\")\n"
          ]
        },
        {
          "output_type": "stream",
          "name": "stdout",
          "text": [
            "2024-03-04 14:51:21,498 INFO sqlalchemy.engine.Engine [raw sql] ()\n"
          ]
        },
        {
          "output_type": "stream",
          "name": "stderr",
          "text": [
            "INFO:sqlalchemy.engine.Engine:[raw sql] ()\n"
          ]
        },
        {
          "output_type": "stream",
          "name": "stdout",
          "text": [
            "2024-03-04 14:51:21,501 INFO sqlalchemy.engine.Engine PRAGMA temp.table_info(\"Dealers\")\n"
          ]
        },
        {
          "output_type": "stream",
          "name": "stderr",
          "text": [
            "INFO:sqlalchemy.engine.Engine:PRAGMA temp.table_info(\"Dealers\")\n"
          ]
        },
        {
          "output_type": "stream",
          "name": "stdout",
          "text": [
            "2024-03-04 14:51:21,503 INFO sqlalchemy.engine.Engine [raw sql] ()\n"
          ]
        },
        {
          "output_type": "stream",
          "name": "stderr",
          "text": [
            "INFO:sqlalchemy.engine.Engine:[raw sql] ()\n"
          ]
        },
        {
          "output_type": "stream",
          "name": "stdout",
          "text": [
            "2024-03-04 14:51:21,507 INFO sqlalchemy.engine.Engine \n",
            "CREATE TABLE \"Car\" (\n",
            "\tcar_id INTEGER NOT NULL, \n",
            "\tcar_name TEXT, \n",
            "\tcar_country TEXT, \n",
            "\tcar_mileage INTEGER, \n",
            "\tcar_price INTEGER, \n",
            "\tPRIMARY KEY (car_id)\n",
            ")\n",
            "\n",
            "\n"
          ]
        },
        {
          "output_type": "stream",
          "name": "stderr",
          "text": [
            "INFO:sqlalchemy.engine.Engine:\n",
            "CREATE TABLE \"Car\" (\n",
            "\tcar_id INTEGER NOT NULL, \n",
            "\tcar_name TEXT, \n",
            "\tcar_country TEXT, \n",
            "\tcar_mileage INTEGER, \n",
            "\tcar_price INTEGER, \n",
            "\tPRIMARY KEY (car_id)\n",
            ")\n",
            "\n",
            "\n"
          ]
        },
        {
          "output_type": "stream",
          "name": "stdout",
          "text": [
            "2024-03-04 14:51:21,510 INFO sqlalchemy.engine.Engine [no key 0.00243s] ()\n"
          ]
        },
        {
          "output_type": "stream",
          "name": "stderr",
          "text": [
            "INFO:sqlalchemy.engine.Engine:[no key 0.00243s] ()\n"
          ]
        },
        {
          "output_type": "stream",
          "name": "stdout",
          "text": [
            "2024-03-04 14:51:21,521 INFO sqlalchemy.engine.Engine \n",
            "CREATE TABLE \"Customers\" (\n",
            "\tcustomer_id INTEGER NOT NULL, \n",
            "\tcustomer_name TEXT, \n",
            "\tcustomer_address TEXT, \n",
            "\tcustomer_phone TEXT, \n",
            "\tPRIMARY KEY (customer_id)\n",
            ")\n",
            "\n",
            "\n"
          ]
        },
        {
          "output_type": "stream",
          "name": "stderr",
          "text": [
            "INFO:sqlalchemy.engine.Engine:\n",
            "CREATE TABLE \"Customers\" (\n",
            "\tcustomer_id INTEGER NOT NULL, \n",
            "\tcustomer_name TEXT, \n",
            "\tcustomer_address TEXT, \n",
            "\tcustomer_phone TEXT, \n",
            "\tPRIMARY KEY (customer_id)\n",
            ")\n",
            "\n",
            "\n"
          ]
        },
        {
          "output_type": "stream",
          "name": "stdout",
          "text": [
            "2024-03-04 14:51:21,524 INFO sqlalchemy.engine.Engine [no key 0.00285s] ()\n"
          ]
        },
        {
          "output_type": "stream",
          "name": "stderr",
          "text": [
            "INFO:sqlalchemy.engine.Engine:[no key 0.00285s] ()\n"
          ]
        },
        {
          "output_type": "stream",
          "name": "stdout",
          "text": [
            "2024-03-04 14:51:21,535 INFO sqlalchemy.engine.Engine \n",
            "CREATE TABLE \"Dealers\" (\n",
            "\tdealer_id INTEGER NOT NULL, \n",
            "\tdealer_name TEXT, \n",
            "\tdealer_location TEXT, \n",
            "\tdealer_phone TEXT, \n",
            "\tPRIMARY KEY (dealer_id)\n",
            ")\n",
            "\n",
            "\n"
          ]
        },
        {
          "output_type": "stream",
          "name": "stderr",
          "text": [
            "INFO:sqlalchemy.engine.Engine:\n",
            "CREATE TABLE \"Dealers\" (\n",
            "\tdealer_id INTEGER NOT NULL, \n",
            "\tdealer_name TEXT, \n",
            "\tdealer_location TEXT, \n",
            "\tdealer_phone TEXT, \n",
            "\tPRIMARY KEY (dealer_id)\n",
            ")\n",
            "\n",
            "\n"
          ]
        },
        {
          "output_type": "stream",
          "name": "stdout",
          "text": [
            "2024-03-04 14:51:21,538 INFO sqlalchemy.engine.Engine [no key 0.00240s] ()\n"
          ]
        },
        {
          "output_type": "stream",
          "name": "stderr",
          "text": [
            "INFO:sqlalchemy.engine.Engine:[no key 0.00240s] ()\n"
          ]
        },
        {
          "output_type": "stream",
          "name": "stdout",
          "text": [
            "2024-03-04 14:51:21,549 INFO sqlalchemy.engine.Engine \n",
            "CREATE TABLE \"Orders\" (\n",
            "\torder_id INTEGER NOT NULL, \n",
            "\tcar_id INTEGER, \n",
            "\tcustomer_id INTEGER, \n",
            "\torder_date TEXT, \n",
            "\torder_quantity INTEGER, \n",
            "\tPRIMARY KEY (order_id), \n",
            "\tFOREIGN KEY(car_id) REFERENCES \"Car\" (car_id), \n",
            "\tFOREIGN KEY(customer_id) REFERENCES \"Customers\" (customer_id)\n",
            ")\n",
            "\n",
            "\n"
          ]
        },
        {
          "output_type": "stream",
          "name": "stderr",
          "text": [
            "INFO:sqlalchemy.engine.Engine:\n",
            "CREATE TABLE \"Orders\" (\n",
            "\torder_id INTEGER NOT NULL, \n",
            "\tcar_id INTEGER, \n",
            "\tcustomer_id INTEGER, \n",
            "\torder_date TEXT, \n",
            "\torder_quantity INTEGER, \n",
            "\tPRIMARY KEY (order_id), \n",
            "\tFOREIGN KEY(car_id) REFERENCES \"Car\" (car_id), \n",
            "\tFOREIGN KEY(customer_id) REFERENCES \"Customers\" (customer_id)\n",
            ")\n",
            "\n",
            "\n"
          ]
        },
        {
          "output_type": "stream",
          "name": "stdout",
          "text": [
            "2024-03-04 14:51:21,552 INFO sqlalchemy.engine.Engine [no key 0.00242s] ()\n"
          ]
        },
        {
          "output_type": "stream",
          "name": "stderr",
          "text": [
            "INFO:sqlalchemy.engine.Engine:[no key 0.00242s] ()\n"
          ]
        },
        {
          "output_type": "stream",
          "name": "stdout",
          "text": [
            "2024-03-04 14:51:21,562 INFO sqlalchemy.engine.Engine COMMIT\n"
          ]
        },
        {
          "output_type": "stream",
          "name": "stderr",
          "text": [
            "INFO:sqlalchemy.engine.Engine:COMMIT\n"
          ]
        }
      ],
      "source": [
        "metadata.create_all(engine)"
      ]
    },
    {
      "cell_type": "code",
      "execution_count": null,
      "id": "76e5f514-9ee8-4a3e-ab0f-340b90837469",
      "metadata": {
        "id": "76e5f514-9ee8-4a3e-ab0f-340b90837469",
        "colab": {
          "base_uri": "https://localhost:8080/"
        },
        "outputId": "b24b3cd3-6bdc-4f78-be4a-85fd02fee4bc"
      },
      "outputs": [
        {
          "output_type": "stream",
          "name": "stdout",
          "text": [
            "2024-03-04 14:51:26,372 INFO sqlalchemy.engine.Engine BEGIN (implicit)\n"
          ]
        },
        {
          "output_type": "stream",
          "name": "stderr",
          "text": [
            "INFO:sqlalchemy.engine.Engine:BEGIN (implicit)\n"
          ]
        },
        {
          "output_type": "stream",
          "name": "stdout",
          "text": [
            "2024-03-04 14:51:26,375 INFO sqlalchemy.engine.Engine INSERT INTO \"Car\" (car_name, car_country, car_mileage, car_price) VALUES (?, ?, ?, ?), (?, ?, ?, ?), (?, ?, ?, ?)\n"
          ]
        },
        {
          "output_type": "stream",
          "name": "stderr",
          "text": [
            "INFO:sqlalchemy.engine.Engine:INSERT INTO \"Car\" (car_name, car_country, car_mileage, car_price) VALUES (?, ?, ?, ?), (?, ?, ?, ?), (?, ?, ?, ?)\n"
          ]
        },
        {
          "output_type": "stream",
          "name": "stdout",
          "text": [
            "2024-03-04 14:51:26,378 INFO sqlalchemy.engine.Engine [no key 0.00670s] ('Audi', 'Germany', 10000, 35500, 'BMW', 'Germany', 15600, 24500, 'Mercedes', 'Germany', 4000, 55500)\n"
          ]
        },
        {
          "output_type": "stream",
          "name": "stderr",
          "text": [
            "INFO:sqlalchemy.engine.Engine:[no key 0.00670s] ('Audi', 'Germany', 10000, 35500, 'BMW', 'Germany', 15600, 24500, 'Mercedes', 'Germany', 4000, 55500)\n"
          ]
        },
        {
          "output_type": "execute_result",
          "data": {
            "text/plain": [
              "<sqlalchemy.engine.cursor.CursorResult at 0x79d4445bffa0>"
            ]
          },
          "metadata": {},
          "execution_count": 9
        }
      ],
      "source": [
        "insertion_cars = cars.insert().values([\n",
        "    {'car_name': 'Audi', 'car_country': 'Germany', 'car_mileage': 10000, 'car_price': 35500},\n",
        "    {'car_name': 'BMW', 'car_country': 'Germany', 'car_mileage': 15600, 'car_price': 24500},\n",
        "    {'car_name': 'Mercedes', 'car_country': 'Germany', 'car_mileage': 4000, 'car_price': 55500}\n",
        "])\n",
        "\n",
        "connection.execute(insertion_cars)"
      ]
    },
    {
      "cell_type": "code",
      "source": [
        "insertion_customers = customers.insert().values([\n",
        "    {'customer_name': 'John Doe', 'customer_address': '123 Main St', 'customer_phone': '555-1234'},\n",
        "    {'customer_name': 'Jane Smith', 'customer_address': '456 Elm St', 'customer_phone': '555-5678'}\n",
        "])\n",
        "connection.execute(insertion_customers)"
      ],
      "metadata": {
        "id": "Mg87WtFZtmlk",
        "colab": {
          "base_uri": "https://localhost:8080/"
        },
        "outputId": "341d0f42-0de2-4184-81c4-9af64aef2647"
      },
      "id": "Mg87WtFZtmlk",
      "execution_count": null,
      "outputs": [
        {
          "output_type": "stream",
          "name": "stdout",
          "text": [
            "2024-03-04 14:51:31,031 INFO sqlalchemy.engine.Engine INSERT INTO \"Customers\" (customer_name, customer_address, customer_phone) VALUES (?, ?, ?), (?, ?, ?)\n"
          ]
        },
        {
          "output_type": "stream",
          "name": "stderr",
          "text": [
            "INFO:sqlalchemy.engine.Engine:INSERT INTO \"Customers\" (customer_name, customer_address, customer_phone) VALUES (?, ?, ?), (?, ?, ?)\n"
          ]
        },
        {
          "output_type": "stream",
          "name": "stdout",
          "text": [
            "2024-03-04 14:51:31,034 INFO sqlalchemy.engine.Engine [no key 0.00312s] ('John Doe', '123 Main St', '555-1234', 'Jane Smith', '456 Elm St', '555-5678')\n"
          ]
        },
        {
          "output_type": "stream",
          "name": "stderr",
          "text": [
            "INFO:sqlalchemy.engine.Engine:[no key 0.00312s] ('John Doe', '123 Main St', '555-1234', 'Jane Smith', '456 Elm St', '555-5678')\n"
          ]
        },
        {
          "output_type": "execute_result",
          "data": {
            "text/plain": [
              "<sqlalchemy.engine.cursor.CursorResult at 0x79d4444065c0>"
            ]
          },
          "metadata": {},
          "execution_count": 10
        }
      ]
    },
    {
      "cell_type": "code",
      "source": [
        "insertion_orders = orders.insert().values([\n",
        "    {'car_id': 1, 'customer_id': 1, 'order_date': '2024-03-04', 'order_quantity': 2},\n",
        "    {'car_id': 2, 'customer_id': 2, 'order_date': '2024-03-04', 'order_quantity': 1}\n",
        "])\n",
        "connection.execute(insertion_orders)"
      ],
      "metadata": {
        "id": "72nBAsSFt5cN",
        "colab": {
          "base_uri": "https://localhost:8080/"
        },
        "outputId": "3d7df427-662c-408f-cbbd-98469bd4c40b"
      },
      "id": "72nBAsSFt5cN",
      "execution_count": null,
      "outputs": [
        {
          "output_type": "stream",
          "name": "stdout",
          "text": [
            "2024-03-04 14:51:33,804 INFO sqlalchemy.engine.Engine INSERT INTO \"Orders\" (car_id, customer_id, order_date, order_quantity) VALUES (?, ?, ?, ?), (?, ?, ?, ?)\n"
          ]
        },
        {
          "output_type": "stream",
          "name": "stderr",
          "text": [
            "INFO:sqlalchemy.engine.Engine:INSERT INTO \"Orders\" (car_id, customer_id, order_date, order_quantity) VALUES (?, ?, ?, ?), (?, ?, ?, ?)\n"
          ]
        },
        {
          "output_type": "stream",
          "name": "stdout",
          "text": [
            "2024-03-04 14:51:33,807 INFO sqlalchemy.engine.Engine [no key 0.00270s] (1, 1, '2024-03-04', 2, 2, 2, '2024-03-04', 1)\n"
          ]
        },
        {
          "output_type": "stream",
          "name": "stderr",
          "text": [
            "INFO:sqlalchemy.engine.Engine:[no key 0.00270s] (1, 1, '2024-03-04', 2, 2, 2, '2024-03-04', 1)\n"
          ]
        },
        {
          "output_type": "execute_result",
          "data": {
            "text/plain": [
              "<sqlalchemy.engine.cursor.CursorResult at 0x79d4444064a0>"
            ]
          },
          "metadata": {},
          "execution_count": 11
        }
      ]
    },
    {
      "cell_type": "code",
      "source": [
        "insertion_dealers = dealers.insert().values([\n",
        "    {'dealer_name': 'ABC Motors', 'dealer_location': '789 Oak St', 'dealer_phone': '555-7890'},\n",
        "    {'dealer_name': 'XYZ Cars', 'dealer_location': '101 Pine St', 'dealer_phone': '555-1010'}\n",
        "])\n",
        "connection.execute(insertion_dealers)"
      ],
      "metadata": {
        "id": "OK_PICOjt9ef",
        "colab": {
          "base_uri": "https://localhost:8080/"
        },
        "outputId": "60782a85-4157-45cd-f213-e140748bf822"
      },
      "id": "OK_PICOjt9ef",
      "execution_count": null,
      "outputs": [
        {
          "output_type": "stream",
          "name": "stdout",
          "text": [
            "2024-03-04 14:51:36,953 INFO sqlalchemy.engine.Engine INSERT INTO \"Dealers\" (dealer_name, dealer_location, dealer_phone) VALUES (?, ?, ?), (?, ?, ?)\n"
          ]
        },
        {
          "output_type": "stream",
          "name": "stderr",
          "text": [
            "INFO:sqlalchemy.engine.Engine:INSERT INTO \"Dealers\" (dealer_name, dealer_location, dealer_phone) VALUES (?, ?, ?), (?, ?, ?)\n"
          ]
        },
        {
          "output_type": "stream",
          "name": "stdout",
          "text": [
            "2024-03-04 14:51:36,956 INFO sqlalchemy.engine.Engine [no key 0.00293s] ('ABC Motors', '789 Oak St', '555-7890', 'XYZ Cars', '101 Pine St', '555-1010')\n"
          ]
        },
        {
          "output_type": "stream",
          "name": "stderr",
          "text": [
            "INFO:sqlalchemy.engine.Engine:[no key 0.00293s] ('ABC Motors', '789 Oak St', '555-7890', 'XYZ Cars', '101 Pine St', '555-1010')\n"
          ]
        },
        {
          "output_type": "execute_result",
          "data": {
            "text/plain": [
              "<sqlalchemy.engine.cursor.CursorResult at 0x79d4444063e0>"
            ]
          },
          "metadata": {},
          "execution_count": 12
        }
      ]
    },
    {
      "cell_type": "code",
      "source": [
        "select_all_query = db.select(orders)\n",
        "select_result = connection.execute(select_all_query)\n",
        "select_result.fetchall()"
      ],
      "metadata": {
        "id": "63AUiVbXuYHp",
        "colab": {
          "base_uri": "https://localhost:8080/"
        },
        "outputId": "8cf89138-6651-469b-d0c0-6b609d3b4e76"
      },
      "id": "63AUiVbXuYHp",
      "execution_count": null,
      "outputs": [
        {
          "output_type": "stream",
          "name": "stdout",
          "text": [
            "2024-03-04 14:51:39,884 INFO sqlalchemy.engine.Engine SELECT \"Orders\".order_id, \"Orders\".car_id, \"Orders\".customer_id, \"Orders\".order_date, \"Orders\".order_quantity \n",
            "FROM \"Orders\"\n"
          ]
        },
        {
          "output_type": "stream",
          "name": "stderr",
          "text": [
            "INFO:sqlalchemy.engine.Engine:SELECT \"Orders\".order_id, \"Orders\".car_id, \"Orders\".customer_id, \"Orders\".order_date, \"Orders\".order_quantity \n",
            "FROM \"Orders\"\n"
          ]
        },
        {
          "output_type": "stream",
          "name": "stdout",
          "text": [
            "2024-03-04 14:51:39,887 INFO sqlalchemy.engine.Engine [generated in 0.00293s] ()\n"
          ]
        },
        {
          "output_type": "stream",
          "name": "stderr",
          "text": [
            "INFO:sqlalchemy.engine.Engine:[generated in 0.00293s] ()\n"
          ]
        },
        {
          "output_type": "execute_result",
          "data": {
            "text/plain": [
              "[(1, 1, 1, '2024-03-04', 2), (2, 2, 2, '2024-03-04', 1)]"
            ]
          },
          "metadata": {},
          "execution_count": 13
        }
      ]
    },
    {
      "cell_type": "code",
      "execution_count": null,
      "id": "f05e3d61-3261-45b5-818b-6cf9c4458d73",
      "metadata": {
        "id": "f05e3d61-3261-45b5-818b-6cf9c4458d73"
      },
      "outputs": [],
      "source": []
    },
    {
      "cell_type": "code",
      "source": [],
      "metadata": {
        "id": "_uT44h1nhleu"
      },
      "id": "_uT44h1nhleu",
      "execution_count": null,
      "outputs": []
    }
  ],
  "metadata": {
    "kernelspec": {
      "display_name": "Python 3 (ipykernel)",
      "language": "python",
      "name": "python3"
    },
    "language_info": {
      "codemirror_mode": {
        "name": "ipython",
        "version": 3
      },
      "file_extension": ".py",
      "mimetype": "text/x-python",
      "name": "python",
      "nbconvert_exporter": "python",
      "pygments_lexer": "ipython3",
      "version": "3.10.6"
    },
    "colab": {
      "provenance": []
    }
  },
  "nbformat": 4,
  "nbformat_minor": 5
}