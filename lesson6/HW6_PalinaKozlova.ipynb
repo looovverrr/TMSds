{
 "cells": [
  {
   "cell_type": "code",
   "execution_count": 11,
   "id": "b0be6238-d316-4265-95a9-045b2e0497a3",
   "metadata": {},
   "outputs": [
    {
     "name": "stdout",
     "output_type": "stream",
     "text": [
      "Минимальное число: 1. Максимальное число: 9\n"
     ]
    }
   ],
   "source": [
    "# В этом небольшом задании вам дается строка чисел, разделенных пробелами,и вы должны вернуть наибольшее и наименьшее число.\n",
    "from functools import reduce\n",
    "def find_min_max(input_string)-> int:\n",
    "    numbers = list(map(int, input_string.split())) \n",
    "    min_number = reduce(lambda x, y: x if x < y else y, numbers) \n",
    "    max_number = reduce(lambda x, y: x if x > y else y, numbers)  \n",
    "    return min_number, max_number\n",
    "\n",
    "input_string = '1 2 3 4 9 5 6 7'\n",
    "min_number, max_number = find_min_max(input_string)\n",
    "print(f'Минимальное число: {min_number}. Максимальное число: {max_number}')\n"
   ]
  },
  {
   "cell_type": "code",
   "execution_count": 12,
   "id": "8b9ced5d-a241-4964-b420-c2252a240530",
   "metadata": {},
   "outputs": [
    {
     "name": "stdout",
     "output_type": "stream",
     "text": [
      "False\n"
     ]
    }
   ],
   "source": [
    "#Банкоматы допускают использование 4- или 6-значных PIN-кодов, а PIN-коды не\n",
    "#могут содержать ничего, кроме ровно 4 или ровно 6 цифр. Если функции\n",
    "#передана действительная строка PIN-кода, return true, иначе return false\n",
    "def validate_pin(pin: str) -> bool:\n",
    "    return len(pin) in (4, 6) and pin.isdigit()\n",
    "print(validate_pin(\"14234\")) \n"
   ]
  },
  {
   "cell_type": "code",
   "execution_count": 13,
   "id": "4f3b4e91-8806-4ca0-b5f1-4a0de915b146",
   "metadata": {},
   "outputs": [
    {
     "name": "stdout",
     "output_type": "stream",
     "text": [
      "[True, True, True, True, False]\n"
     ]
    }
   ],
   "source": [
    "#Учитывая целое число, определите, является ли оно квадратным \n",
    "def is_square(num: int) -> bool:\n",
    "    return int(num ** 0.5) ** 2 == num\n",
    "\n",
    "numbers = [4, 9, 16, 25, 10]\n",
    "result = list(map(is_square, numbers))\n",
    "print(result)  \n"
   ]
  },
  {
   "cell_type": "code",
   "execution_count": 14,
   "id": "99b86628-9828-408e-aed5-21700130d9ee",
   "metadata": {},
   "outputs": [
    {
     "name": "stdout",
     "output_type": "stream",
     "text": [
      "['A', 'B', 'C', 'D', 'A', 'B']\n"
     ]
    }
   ],
   "source": [
    "def unique_in_order(sequence: str) -> list:\n",
    "    return [sequence[i] for i in range(len(sequence)) if i == 0 or sequence[i] != sequence[i-1]]\n",
    "\n",
    "print(unique_in_order('AAAABBBCCDAABBB')) "
   ]
  },
  {
   "cell_type": "code",
   "execution_count": 20,
   "id": "97b6cbe2-4105-4990-a540-a0ce76ad0e8b",
   "metadata": {},
   "outputs": [
    {
     "name": "stdout",
     "output_type": "stream",
     "text": [
      "1\n"
     ]
    }
   ],
   "source": [
    "#самое короткое слово\n",
    "def shortest_word_length(words: str) -> int:\n",
    "    word_list = words.split()\n",
    "    return min(map(len, word_list))\n",
    "print(shortest_word_length(\"как дела у тебя\"))  \n"
   ]
  },
  {
   "cell_type": "code",
   "execution_count": 16,
   "id": "183adce6-c1d7-4273-b2a2-3f13eab01e63",
   "metadata": {},
   "outputs": [
    {
     "name": "stdout",
     "output_type": "stream",
     "text": [
      "2\n"
     ]
    }
   ],
   "source": [
    "#цифровой корень\n",
    "def digital_root(n: int) -> int:\n",
    "    while n > 9:\n",
    "        n = sum(map(int, str(n)))\n",
    "    return n\n",
    "\n",
    "\n",
    "print(digital_root(493193)) \n"
   ]
  },
  {
   "cell_type": "code",
   "execution_count": 17,
   "id": "5ea20243-a2f6-46a0-a4c0-c5b0dde4c26e",
   "metadata": {},
   "outputs": [
    {
     "name": "stdout",
     "output_type": "stream",
     "text": [
      "es\n",
      "t\n"
     ]
    }
   ],
   "source": [
    "#средний символ\n",
    "def middle_char(word: str) -> str:\n",
    "    length = len(word)\n",
    "    middle_index = length // 2\n",
    "    if length % 2 == 0:\n",
    "        return word[middle_index - 1: middle_index + 1]\n",
    "    else:\n",
    "        return word[middle_index]\n",
    "\n",
    "print(middle_char(\"test\")) \n",
    "print(middle_char(\"testing\"))\n"
   ]
  },
  {
   "cell_type": "code",
   "execution_count": 18,
   "id": "92446927-1bb5-4bcd-8f91-b0c8c6999100",
   "metadata": {},
   "outputs": [
    {
     "name": "stdout",
     "output_type": "stream",
     "text": [
      "True\n",
      "False\n"
     ]
    }
   ],
   "source": [
    "#простое число\n",
    "def is_prime(n: int) -> bool:\n",
    "    if n <= 1:\n",
    "        return False\n",
    "    for i in range(2, int(n ** 0.5) + 1):\n",
    "        if n % i == 0:\n",
    "            return False\n",
    "    return True\n",
    "\n",
    "print(is_prime(17)) \n",
    "print(is_prime(15)) \n"
   ]
  },
  {
   "cell_type": "code",
   "execution_count": 19,
   "id": "f1096693-49f8-4870-93a4-64e440b761e2",
   "metadata": {},
   "outputs": [
    {
     "name": "stdout",
     "output_type": "stream",
     "text": [
      "нечет\n",
      "чет\n"
     ]
    }
   ],
   "source": [
    "#четность строки\n",
    "def is_even_sum(numbers: list) -> str:\n",
    "    return \"чет\" if sum(numbers) % 2 == 0 else \"нечет\"\n",
    "\n",
    "print(is_even_sum([1, 2, 3, 4, 5]))  \n",
    "print(is_even_sum([2, 4, 6, 8]))  \n"
   ]
  },
  {
   "cell_type": "code",
   "execution_count": null,
   "id": "ad9397ef-4c83-447a-aa47-e07d325b3a10",
   "metadata": {},
   "outputs": [],
   "source": []
  }
 ],
 "metadata": {
  "kernelspec": {
   "display_name": "Python 3 (ipykernel)",
   "language": "python",
   "name": "python3"
  },
  "language_info": {
   "codemirror_mode": {
    "name": "ipython",
    "version": 3
   },
   "file_extension": ".py",
   "mimetype": "text/x-python",
   "name": "python",
   "nbconvert_exporter": "python",
   "pygments_lexer": "ipython3",
   "version": "3.10.6"
  }
 },
 "nbformat": 4,
 "nbformat_minor": 5
}
