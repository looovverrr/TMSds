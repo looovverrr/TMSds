{
 "cells": [
  {
   "cell_type": "code",
   "execution_count": 43,
   "id": "27b327f3-3416-477d-aa56-a922da7ba45e",
   "metadata": {},
   "outputs": [],
   "source": [
    "import pandas as pd\n",
    "import seaborn as sns\n",
    "from sklearn.cluster import KMeans\n",
    "import matplotlib.pyplot as plt\n",
    "from sklearn.manifold import TSNE\n",
    "import numpy as np\n",
    "from sklearn.impute import SimpleImputer\n",
    "from sklearn.preprocessing import StandardScaler, MinMaxScaler\n",
    "from sklearn.preprocessing import LabelEncoder\n",
    "df=pd.read_csv(\"main.csv\")\n"
   ]
  },
  {
   "cell_type": "code",
   "execution_count": 36,
   "id": "27ee0720-f3a6-4000-b4d0-1da166971fe8",
   "metadata": {},
   "outputs": [
    {
     "data": {
      "text/plain": [
       "Index(['Poster_Link', 'Series_Title', 'Released_Year', 'Certificate',\n",
       "       'Runtime', 'Genre', 'IMDB_Rating', 'Overview', 'Meta_score', 'Director',\n",
       "       'Star1', 'Star2', 'Star3', 'Star4', 'No_of_Votes', 'Gross'],\n",
       "      dtype='object')"
      ]
     },
     "execution_count": 36,
     "metadata": {},
     "output_type": "execute_result"
    }
   ],
   "source": [
    "df.columns"
   ]
  },
  {
   "cell_type": "markdown",
   "id": "091d9da0-a5fd-4b40-8720-8f2c9380a2ee",
   "metadata": {},
   "source": [
    "## Poster_Link: Ссылка на постер фильма.\n",
    "## Series_Title: Название сериала или фильма.\n",
    "## Released_Year: Год выпуска.\n",
    "## Certificate: Сертификация (PG, PG-13, R и т. д.).\n",
    "## Runtime: Продолжительность фильма в минутах.\n",
    "## Genre: Жанр фильма (драма, комедия, триллер и т. д.).\n",
    "## IMDB_Rating: Рейтинг фильма на IMDb.\n",
    "## Overview: Краткое описание сюжета фильма.\n",
    "## Meta_score: Рейтинг фильма на сайте Metacritic.\n",
    "## Director: Режиссер фильма.\n",
    "## Star1, Star2, Star3, Star4: Основные актеры (первая, вторая, третья и четвертая звезда).\n",
    "## No_of_Votes: Количество голосов на IMDb.\n",
    "## Gross: Сборы фильма."
   ]
  },
  {
   "cell_type": "code",
   "execution_count": 29,
   "id": "84a621c5-df60-4870-9f42-575295b0bb7e",
   "metadata": {},
   "outputs": [
    {
     "data": {
      "text/html": [
       "<div>\n",
       "<style scoped>\n",
       "    .dataframe tbody tr th:only-of-type {\n",
       "        vertical-align: middle;\n",
       "    }\n",
       "\n",
       "    .dataframe tbody tr th {\n",
       "        vertical-align: top;\n",
       "    }\n",
       "\n",
       "    .dataframe thead th {\n",
       "        text-align: right;\n",
       "    }\n",
       "</style>\n",
       "<table border=\"1\" class=\"dataframe\">\n",
       "  <thead>\n",
       "    <tr style=\"text-align: right;\">\n",
       "      <th></th>\n",
       "      <th>Poster_Link</th>\n",
       "      <th>Series_Title</th>\n",
       "      <th>Released_Year</th>\n",
       "      <th>Certificate</th>\n",
       "      <th>Runtime</th>\n",
       "      <th>Genre</th>\n",
       "      <th>IMDB_Rating</th>\n",
       "      <th>Overview</th>\n",
       "      <th>Meta_score</th>\n",
       "      <th>Director</th>\n",
       "      <th>Star1</th>\n",
       "      <th>Star2</th>\n",
       "      <th>Star3</th>\n",
       "      <th>Star4</th>\n",
       "      <th>No_of_Votes</th>\n",
       "      <th>Gross</th>\n",
       "    </tr>\n",
       "  </thead>\n",
       "  <tbody>\n",
       "    <tr>\n",
       "      <th>0</th>\n",
       "      <td>https://m.media-amazon.com/images/M/MV5BMDFkYT...</td>\n",
       "      <td>The Shawshank Redemption</td>\n",
       "      <td>1994</td>\n",
       "      <td>A</td>\n",
       "      <td>142 min</td>\n",
       "      <td>Drama</td>\n",
       "      <td>9.3</td>\n",
       "      <td>Two imprisoned men bond over a number of years...</td>\n",
       "      <td>80.0</td>\n",
       "      <td>Frank Darabont</td>\n",
       "      <td>Tim Robbins</td>\n",
       "      <td>Morgan Freeman</td>\n",
       "      <td>Bob Gunton</td>\n",
       "      <td>William Sadler</td>\n",
       "      <td>2343110</td>\n",
       "      <td>28,341,469</td>\n",
       "    </tr>\n",
       "    <tr>\n",
       "      <th>1</th>\n",
       "      <td>https://m.media-amazon.com/images/M/MV5BM2MyNj...</td>\n",
       "      <td>The Godfather</td>\n",
       "      <td>1972</td>\n",
       "      <td>A</td>\n",
       "      <td>175 min</td>\n",
       "      <td>Crime, Drama</td>\n",
       "      <td>9.2</td>\n",
       "      <td>An organized crime dynasty's aging patriarch t...</td>\n",
       "      <td>100.0</td>\n",
       "      <td>Francis Ford Coppola</td>\n",
       "      <td>Marlon Brando</td>\n",
       "      <td>Al Pacino</td>\n",
       "      <td>James Caan</td>\n",
       "      <td>Diane Keaton</td>\n",
       "      <td>1620367</td>\n",
       "      <td>134,966,411</td>\n",
       "    </tr>\n",
       "    <tr>\n",
       "      <th>2</th>\n",
       "      <td>https://m.media-amazon.com/images/M/MV5BMTMxNT...</td>\n",
       "      <td>The Dark Knight</td>\n",
       "      <td>2008</td>\n",
       "      <td>UA</td>\n",
       "      <td>152 min</td>\n",
       "      <td>Action, Crime, Drama</td>\n",
       "      <td>9.0</td>\n",
       "      <td>When the menace known as the Joker wreaks havo...</td>\n",
       "      <td>84.0</td>\n",
       "      <td>Christopher Nolan</td>\n",
       "      <td>Christian Bale</td>\n",
       "      <td>Heath Ledger</td>\n",
       "      <td>Aaron Eckhart</td>\n",
       "      <td>Michael Caine</td>\n",
       "      <td>2303232</td>\n",
       "      <td>534,858,444</td>\n",
       "    </tr>\n",
       "    <tr>\n",
       "      <th>3</th>\n",
       "      <td>https://m.media-amazon.com/images/M/MV5BMWMwMG...</td>\n",
       "      <td>The Godfather: Part II</td>\n",
       "      <td>1974</td>\n",
       "      <td>A</td>\n",
       "      <td>202 min</td>\n",
       "      <td>Crime, Drama</td>\n",
       "      <td>9.0</td>\n",
       "      <td>The early life and career of Vito Corleone in ...</td>\n",
       "      <td>90.0</td>\n",
       "      <td>Francis Ford Coppola</td>\n",
       "      <td>Al Pacino</td>\n",
       "      <td>Robert De Niro</td>\n",
       "      <td>Robert Duvall</td>\n",
       "      <td>Diane Keaton</td>\n",
       "      <td>1129952</td>\n",
       "      <td>57,300,000</td>\n",
       "    </tr>\n",
       "    <tr>\n",
       "      <th>4</th>\n",
       "      <td>https://m.media-amazon.com/images/M/MV5BMWU4N2...</td>\n",
       "      <td>12 Angry Men</td>\n",
       "      <td>1957</td>\n",
       "      <td>U</td>\n",
       "      <td>96 min</td>\n",
       "      <td>Crime, Drama</td>\n",
       "      <td>9.0</td>\n",
       "      <td>A jury holdout attempts to prevent a miscarria...</td>\n",
       "      <td>96.0</td>\n",
       "      <td>Sidney Lumet</td>\n",
       "      <td>Henry Fonda</td>\n",
       "      <td>Lee J. Cobb</td>\n",
       "      <td>Martin Balsam</td>\n",
       "      <td>John Fiedler</td>\n",
       "      <td>689845</td>\n",
       "      <td>4,360,000</td>\n",
       "    </tr>\n",
       "    <tr>\n",
       "      <th>5</th>\n",
       "      <td>https://m.media-amazon.com/images/M/MV5BNzA5ZD...</td>\n",
       "      <td>The Lord of the Rings: The Return of the King</td>\n",
       "      <td>2003</td>\n",
       "      <td>U</td>\n",
       "      <td>201 min</td>\n",
       "      <td>Action, Adventure, Drama</td>\n",
       "      <td>8.9</td>\n",
       "      <td>Gandalf and Aragorn lead the World of Men agai...</td>\n",
       "      <td>94.0</td>\n",
       "      <td>Peter Jackson</td>\n",
       "      <td>Elijah Wood</td>\n",
       "      <td>Viggo Mortensen</td>\n",
       "      <td>Ian McKellen</td>\n",
       "      <td>Orlando Bloom</td>\n",
       "      <td>1642758</td>\n",
       "      <td>377,845,905</td>\n",
       "    </tr>\n",
       "    <tr>\n",
       "      <th>6</th>\n",
       "      <td>https://m.media-amazon.com/images/M/MV5BNGNhMD...</td>\n",
       "      <td>Pulp Fiction</td>\n",
       "      <td>1994</td>\n",
       "      <td>A</td>\n",
       "      <td>154 min</td>\n",
       "      <td>Crime, Drama</td>\n",
       "      <td>8.9</td>\n",
       "      <td>The lives of two mob hitmen, a boxer, a gangst...</td>\n",
       "      <td>94.0</td>\n",
       "      <td>Quentin Tarantino</td>\n",
       "      <td>John Travolta</td>\n",
       "      <td>Uma Thurman</td>\n",
       "      <td>Samuel L. Jackson</td>\n",
       "      <td>Bruce Willis</td>\n",
       "      <td>1826188</td>\n",
       "      <td>107,928,762</td>\n",
       "    </tr>\n",
       "    <tr>\n",
       "      <th>7</th>\n",
       "      <td>https://m.media-amazon.com/images/M/MV5BNDE4OT...</td>\n",
       "      <td>Schindler's List</td>\n",
       "      <td>1993</td>\n",
       "      <td>A</td>\n",
       "      <td>195 min</td>\n",
       "      <td>Biography, Drama, History</td>\n",
       "      <td>8.9</td>\n",
       "      <td>In German-occupied Poland during World War II,...</td>\n",
       "      <td>94.0</td>\n",
       "      <td>Steven Spielberg</td>\n",
       "      <td>Liam Neeson</td>\n",
       "      <td>Ralph Fiennes</td>\n",
       "      <td>Ben Kingsley</td>\n",
       "      <td>Caroline Goodall</td>\n",
       "      <td>1213505</td>\n",
       "      <td>96,898,818</td>\n",
       "    </tr>\n",
       "    <tr>\n",
       "      <th>8</th>\n",
       "      <td>https://m.media-amazon.com/images/M/MV5BMjAxMz...</td>\n",
       "      <td>Inception</td>\n",
       "      <td>2010</td>\n",
       "      <td>UA</td>\n",
       "      <td>148 min</td>\n",
       "      <td>Action, Adventure, Sci-Fi</td>\n",
       "      <td>8.8</td>\n",
       "      <td>A thief who steals corporate secrets through t...</td>\n",
       "      <td>74.0</td>\n",
       "      <td>Christopher Nolan</td>\n",
       "      <td>Leonardo DiCaprio</td>\n",
       "      <td>Joseph Gordon-Levitt</td>\n",
       "      <td>Elliot Page</td>\n",
       "      <td>Ken Watanabe</td>\n",
       "      <td>2067042</td>\n",
       "      <td>292,576,195</td>\n",
       "    </tr>\n",
       "    <tr>\n",
       "      <th>9</th>\n",
       "      <td>https://m.media-amazon.com/images/M/MV5BMmEzNT...</td>\n",
       "      <td>Fight Club</td>\n",
       "      <td>1999</td>\n",
       "      <td>A</td>\n",
       "      <td>139 min</td>\n",
       "      <td>Drama</td>\n",
       "      <td>8.8</td>\n",
       "      <td>An insomniac office worker and a devil-may-car...</td>\n",
       "      <td>66.0</td>\n",
       "      <td>David Fincher</td>\n",
       "      <td>Brad Pitt</td>\n",
       "      <td>Edward Norton</td>\n",
       "      <td>Meat Loaf</td>\n",
       "      <td>Zach Grenier</td>\n",
       "      <td>1854740</td>\n",
       "      <td>37,030,102</td>\n",
       "    </tr>\n",
       "  </tbody>\n",
       "</table>\n",
       "</div>"
      ],
      "text/plain": [
       "                                         Poster_Link  \\\n",
       "0  https://m.media-amazon.com/images/M/MV5BMDFkYT...   \n",
       "1  https://m.media-amazon.com/images/M/MV5BM2MyNj...   \n",
       "2  https://m.media-amazon.com/images/M/MV5BMTMxNT...   \n",
       "3  https://m.media-amazon.com/images/M/MV5BMWMwMG...   \n",
       "4  https://m.media-amazon.com/images/M/MV5BMWU4N2...   \n",
       "5  https://m.media-amazon.com/images/M/MV5BNzA5ZD...   \n",
       "6  https://m.media-amazon.com/images/M/MV5BNGNhMD...   \n",
       "7  https://m.media-amazon.com/images/M/MV5BNDE4OT...   \n",
       "8  https://m.media-amazon.com/images/M/MV5BMjAxMz...   \n",
       "9  https://m.media-amazon.com/images/M/MV5BMmEzNT...   \n",
       "\n",
       "                                    Series_Title Released_Year Certificate  \\\n",
       "0                       The Shawshank Redemption          1994           A   \n",
       "1                                  The Godfather          1972           A   \n",
       "2                                The Dark Knight          2008          UA   \n",
       "3                         The Godfather: Part II          1974           A   \n",
       "4                                   12 Angry Men          1957           U   \n",
       "5  The Lord of the Rings: The Return of the King          2003           U   \n",
       "6                                   Pulp Fiction          1994           A   \n",
       "7                               Schindler's List          1993           A   \n",
       "8                                      Inception          2010          UA   \n",
       "9                                     Fight Club          1999           A   \n",
       "\n",
       "   Runtime                      Genre  IMDB_Rating  \\\n",
       "0  142 min                      Drama          9.3   \n",
       "1  175 min               Crime, Drama          9.2   \n",
       "2  152 min       Action, Crime, Drama          9.0   \n",
       "3  202 min               Crime, Drama          9.0   \n",
       "4   96 min               Crime, Drama          9.0   \n",
       "5  201 min   Action, Adventure, Drama          8.9   \n",
       "6  154 min               Crime, Drama          8.9   \n",
       "7  195 min  Biography, Drama, History          8.9   \n",
       "8  148 min  Action, Adventure, Sci-Fi          8.8   \n",
       "9  139 min                      Drama          8.8   \n",
       "\n",
       "                                            Overview  Meta_score  \\\n",
       "0  Two imprisoned men bond over a number of years...        80.0   \n",
       "1  An organized crime dynasty's aging patriarch t...       100.0   \n",
       "2  When the menace known as the Joker wreaks havo...        84.0   \n",
       "3  The early life and career of Vito Corleone in ...        90.0   \n",
       "4  A jury holdout attempts to prevent a miscarria...        96.0   \n",
       "5  Gandalf and Aragorn lead the World of Men agai...        94.0   \n",
       "6  The lives of two mob hitmen, a boxer, a gangst...        94.0   \n",
       "7  In German-occupied Poland during World War II,...        94.0   \n",
       "8  A thief who steals corporate secrets through t...        74.0   \n",
       "9  An insomniac office worker and a devil-may-car...        66.0   \n",
       "\n",
       "               Director              Star1                 Star2  \\\n",
       "0        Frank Darabont        Tim Robbins        Morgan Freeman   \n",
       "1  Francis Ford Coppola      Marlon Brando             Al Pacino   \n",
       "2     Christopher Nolan     Christian Bale          Heath Ledger   \n",
       "3  Francis Ford Coppola          Al Pacino        Robert De Niro   \n",
       "4          Sidney Lumet        Henry Fonda           Lee J. Cobb   \n",
       "5         Peter Jackson        Elijah Wood       Viggo Mortensen   \n",
       "6     Quentin Tarantino      John Travolta           Uma Thurman   \n",
       "7      Steven Spielberg        Liam Neeson         Ralph Fiennes   \n",
       "8     Christopher Nolan  Leonardo DiCaprio  Joseph Gordon-Levitt   \n",
       "9         David Fincher          Brad Pitt         Edward Norton   \n",
       "\n",
       "               Star3             Star4  No_of_Votes        Gross  \n",
       "0         Bob Gunton    William Sadler      2343110   28,341,469  \n",
       "1         James Caan      Diane Keaton      1620367  134,966,411  \n",
       "2      Aaron Eckhart     Michael Caine      2303232  534,858,444  \n",
       "3      Robert Duvall      Diane Keaton      1129952   57,300,000  \n",
       "4      Martin Balsam      John Fiedler       689845    4,360,000  \n",
       "5       Ian McKellen     Orlando Bloom      1642758  377,845,905  \n",
       "6  Samuel L. Jackson      Bruce Willis      1826188  107,928,762  \n",
       "7       Ben Kingsley  Caroline Goodall      1213505   96,898,818  \n",
       "8        Elliot Page      Ken Watanabe      2067042  292,576,195  \n",
       "9          Meat Loaf      Zach Grenier      1854740   37,030,102  "
      ]
     },
     "execution_count": 29,
     "metadata": {},
     "output_type": "execute_result"
    }
   ],
   "source": [
    "df.head(10)"
   ]
  },
  {
   "cell_type": "code",
   "execution_count": 146,
   "id": "bbefd3d7-0b37-41e7-85c9-0eb59f18ee85",
   "metadata": {},
   "outputs": [
    {
     "data": {
      "text/plain": [
       "Poster_Link        0\n",
       "Series_Title       0\n",
       "Released_Year      0\n",
       "Certificate      101\n",
       "Runtime            0\n",
       "Genre              0\n",
       "IMDB_Rating        0\n",
       "Overview           0\n",
       "Meta_score       157\n",
       "Director           0\n",
       "Star1              0\n",
       "Star2              0\n",
       "Star3              0\n",
       "Star4              0\n",
       "No_of_Votes        0\n",
       "Gross            169\n",
       "dtype: int64"
      ]
     },
     "execution_count": 146,
     "metadata": {},
     "output_type": "execute_result"
    }
   ],
   "source": [
    "df.isnull().sum()"
   ]
  },
  {
   "cell_type": "markdown",
   "id": "4ed30a77-f3f7-4997-9802-01d5ac6f817a",
   "metadata": {},
   "source": [
    "# Подготовка данных к кластеризации"
   ]
  },
  {
   "cell_type": "code",
   "execution_count": 44,
   "id": "e7f4acc7-2bf7-442b-a104-a681981c47c2",
   "metadata": {},
   "outputs": [],
   "source": [
    "df['Gross'] = df['Gross'].str.replace(',', '')\n",
    "df['Gross'] = df['Gross'].astype(float)"
   ]
  },
  {
   "cell_type": "code",
   "execution_count": 45,
   "id": "c366709c-f01e-48ef-b318-0d0e8a99763d",
   "metadata": {},
   "outputs": [],
   "source": [
    "scaler = StandardScaler()\n",
    "data_scaled = df.copy()\n",
    "columns_to_scale = ['Meta_score','No_of_Votes','Gross']\n",
    "for column in columns_to_scale:\n",
    "    data_scaled[column] = scaler.fit_transform(df[[column]])\n",
    "\n",
    "data_scaled = pd.DataFrame(data_scaled, columns=df.columns)"
   ]
  },
  {
   "cell_type": "code",
   "execution_count": 53,
   "id": "795511ee-6ce7-44cd-bdf7-fef7ab85a729",
   "metadata": {},
   "outputs": [],
   "source": [
    "meann=df['Meta_score'].mean()\n",
    "data_scaled['Meta_score'].fillna(meann,inplace=True)"
   ]
  },
  {
   "cell_type": "code",
   "execution_count": 54,
   "id": "4d011a66-d924-46c1-828a-d2eeecf5044f",
   "metadata": {},
   "outputs": [],
   "source": [
    "meann=df['Gross'].mean()\n",
    "data_scaled['Gross'].fillna(meann,inplace=True)"
   ]
  },
  {
   "cell_type": "code",
   "execution_count": 48,
   "id": "2afdfdfe-cf73-43a9-97a8-dbbf4c14d460",
   "metadata": {},
   "outputs": [],
   "source": [
    "data_scaled =df.drop(columns=['Certificate','Poster_Link'])"
   ]
  },
  {
   "cell_type": "code",
   "execution_count": 49,
   "id": "4e1cade2-1513-4313-9d6c-b3f0bbf3b6f3",
   "metadata": {},
   "outputs": [],
   "source": [
    "label_encoders = {}\n",
    "for column in data_scaled.columns:\n",
    "    if data_scaled[column].dtype == 'object':\n",
    "        label_encoders[column] = LabelEncoder()\n",
    "        data_scaled[column] = label_encoders[column].fit_transform(data_scaled[column])"
   ]
  },
  {
   "cell_type": "code",
   "execution_count": 55,
   "id": "3ebfbf8e-e09c-4889-a0aa-44316272dd6f",
   "metadata": {},
   "outputs": [
    {
     "data": {
      "text/plain": [
       "Series_Title     0\n",
       "Released_Year    0\n",
       "Runtime          0\n",
       "Genre            0\n",
       "IMDB_Rating      0\n",
       "Overview         0\n",
       "Meta_score       0\n",
       "Director         0\n",
       "Star1            0\n",
       "Star2            0\n",
       "Star3            0\n",
       "Star4            0\n",
       "No_of_Votes      0\n",
       "Gross            0\n",
       "dtype: int64"
      ]
     },
     "execution_count": 55,
     "metadata": {},
     "output_type": "execute_result"
    }
   ],
   "source": [
    "data_scaled.isnull().sum()"
   ]
  },
  {
   "cell_type": "markdown",
   "id": "fbd3b687-73c1-4d20-b467-9df5ae6b37f7",
   "metadata": {},
   "source": [
    "# Кластеризация"
   ]
  },
  {
   "cell_type": "code",
   "execution_count": 56,
   "id": "c88a31db-18e7-4893-970f-72ba7eae968e",
   "metadata": {},
   "outputs": [
    {
     "data": {
      "image/png": "[encoded data removed]",
      "text/plain": [
       "<Figure size 640x480 with 1 Axes>"
      ]
     },
     "metadata": {},
     "output_type": "display_data"
    }
   ],
   "source": [
    "wcss=[]\n",
    "for i in range(1, 8):\n",
    "    kmeans = KMeans(n_clusters=i, init='k-means++', max_iter=300, n_init=10, random_state=0)\n",
    "    kmeans.fit(data_scaled)\n",
    "    wcss.append(kmeans.inertia_)\n",
    "plt.plot(range(1, 8), wcss)\n",
    "plt.title('Метод \"Локтя\"')\n",
    "plt.xlabel('Число кластеров')\n",
    "plt.ylabel('WCSS')\n",
    "plt.show()"
   ]
  },
  {
   "cell_type": "markdown",
   "id": "a7f225c2-d8d5-43f6-a14d-f617375885ba",
   "metadata": {},
   "source": [
    "# можем выделить три кластера"
   ]
  },
  {
   "cell_type": "code",
   "execution_count": 57,
   "id": "1f2763a9-4ed4-41aa-a973-6324c3598e4e",
   "metadata": {},
   "outputs": [
    {
     "name": "stderr",
     "output_type": "stream",
     "text": [
      "/opt/conda/lib/python3.10/site-packages/sklearn/manifold/_t_sne.py:800: FutureWarning: The default initialization in TSNE will change from 'random' to 'pca' in 1.2.\n",
      "  warnings.warn(\n"
     ]
    },
    {
     "data": {
      "image/png": "[encoded data removed]",
      "text/plain": [
       "<Figure size 640x480 with 1 Axes>"
      ]
     },
     "metadata": {},
     "output_type": "display_data"
    }
   ],
   "source": [
    "tsne = TSNE(n_components=2, random_state=42,learning_rate='auto')\n",
    "tsne_components = tsne.fit_transform(data_scaled)\n",
    "kmeans = KMeans(n_clusters=3, init='k-means++', max_iter=300, n_init=10, random_state=42).fit(tsne_components)\n",
    "plt.scatter(tsne_components[:, 0], tsne_components[:, 1], c=kmeans.labels_, cmap=\"viridis\")\n",
    "plt.xlabel(\"t-SNE Component 1\")\n",
    "plt.ylabel(\"t-SNE Component 2\")\n",
    "plt.title(\"KMeans Clustering Results with t-SNE\")\n",
    "plt.show()"
   ]
  },
  {
   "cell_type": "markdown",
   "id": "3b969be0-214f-4a7a-a8b8-5d2ac12fd34a",
   "metadata": {},
   "source": [
    "# а что дальше?"
   ]
  },
  {
   "cell_type": "markdown",
   "id": "7edf6e0f-3e9b-4ff0-9dca-d1572994c168",
   "metadata": {},
   "source": [
    "# Content-based recommendation system + поиск по ключевому слову"
   ]
  },
  {
   "cell_type": "code",
   "execution_count": 79,
   "id": "83976110-5faa-4aba-9546-9fab92550c28",
   "metadata": {},
   "outputs": [],
   "source": [
    "from sklearn.neighbors import NearestNeighbors\n",
    "import pandas as pd\n",
    "from sklearn.feature_extraction.text import TfidfVectorizer\n",
    "from sklearn.neighbors import NearestNeighbors"
   ]
  },
  {
   "cell_type": "code",
   "execution_count": 80,
   "id": "f9fef853-ab8e-44ef-b5b2-e4f42792da3a",
   "metadata": {},
   "outputs": [],
   "source": [
    "def preprocess_text(text):\n",
    "    return str(text).lower()"
   ]
  },
  {
   "cell_type": "code",
   "execution_count": 81,
   "id": "721d0be9-4a1a-4d9d-b05f-2a90baa37e4e",
   "metadata": {},
   "outputs": [],
   "source": [
    "def preprocess_data(df):\n",
    "    for col in ['Genre','Star1', 'Star2', 'Star3', 'Star4', 'Overview']:\n",
    "        df[col] = df[col].apply(preprocess_text)\n",
    "    return df"
   ]
  },
  {
   "cell_type": "code",
   "execution_count": 82,
   "id": "2c6ccb3a-a294-405c-8e38-f33a8f961ce4",
   "metadata": {},
   "outputs": [],
   "source": [
    "def create_tfidf_matrix(df):\n",
    "    tfidf = TfidfVectorizer(stop_words='english')\n",
    "    tfidf_matrix = tfidf.fit_transform(df['Genre'] + ' ' + df['Star1'] + ' ' + df['Star2'] + ' ' + df['Star3'] + ' ' + df['Star4'] + ' ' + df['Overview'])\n",
    "    return tfidf, tfidf_matrix"
   ]
  },
  {
   "cell_type": "code",
   "execution_count": 83,
   "id": "1a468a52-4293-433f-84bd-8e4c8551ceb4",
   "metadata": {},
   "outputs": [],
   "source": [
    "def train_knn_model(tfidf_matrix):\n",
    "    knn_model = NearestNeighbors(n_neighbors=10, metric='cosine')\n",
    "    knn_model.fit(tfidf_matrix)\n",
    "    return knn_model"
   ]
  },
  {
   "cell_type": "code",
   "execution_count": 84,
   "id": "a9d36feb-f1a1-45f7-8e87-46eb2f0ebf58",
   "metadata": {},
   "outputs": [],
   "source": [
    "def get_similar_movies_recommendations(movie_title, df, tfidf, knn_model):\n",
    "    movie_index = df[df['Series_Title'] == movie_title].index[0]\n",
    "    distances, indices = knn_model.kneighbors(tfidf.transform([df.iloc[movie_index]['Overview']]))\n",
    "    similar_movies = df.iloc[indices.flatten()]\n",
    "    return similar_movies[['Series_Title', 'Overview']]\n"
   ]
  },
  {
   "cell_type": "code",
   "execution_count": 85,
   "id": "db6e9951-f8a0-4910-b007-822bec7b8e83",
   "metadata": {},
   "outputs": [],
   "source": [
    "def get_genre_recommendations(genre, df):\n",
    "    genre_movies = df[df['Genre'].str.contains(genre, case=False)]\n",
    "    return genre_movies[['Series_Title', 'Overview']]"
   ]
  },
  {
   "cell_type": "code",
   "execution_count": 86,
   "id": "9040db76-f9d9-45a7-a0f7-e7d7af4bbeb5",
   "metadata": {},
   "outputs": [],
   "source": [
    "def get_keyword_recommendations(keyword, df):\n",
    "    keyword_movies = df[df['Overview'].str.contains(keyword, case=False)]\n",
    "    return keyword_movies[['Series_Title', 'Overview']]"
   ]
  },
  {
   "cell_type": "code",
   "execution_count": 87,
   "id": "07e9a9fd-9f40-41e6-a801-85b6d0b4610b",
   "metadata": {},
   "outputs": [],
   "source": [
    "def get_star_recommendations(star, df):\n",
    "    star_movies = df[(df['Star1'].str.contains(star, case=False)) |\n",
    "                     (df['Star2'].str.contains(star, case=False)) |\n",
    "                     (df['Star3'].str.contains(star, case=False)) |\n",
    "                     (df['Star4'].str.contains(star, case=False))]\n",
    "    return star_movies[['Series_Title', 'Overview']]\n"
   ]
  },
  {
   "cell_type": "code",
   "execution_count": 88,
   "id": "fcf2dfd0-34e9-4490-abb7-cc02c0214b5f",
   "metadata": {},
   "outputs": [],
   "source": [
    "def choose_recommendation_method():\n",
    "    print(\"Выберите метод получения рекомендаций:\")\n",
    "    print(\"1. По похожести фильмов\")\n",
    "    print(\"2. По жанру\")\n",
    "    print(\"3. По ключевому слову\")\n",
    "    print(\"4. По звезде (актеру)\")\n",
    "    choice = input(\"Введите номер метода: \")\n",
    "    return choice  "
   ]
  },
  {
   "cell_type": "code",
   "execution_count": 89,
   "id": "09ee347a-3c4e-4592-a35c-8c169ba6017b",
   "metadata": {},
   "outputs": [],
   "source": [
    "def get_input_data(method):\n",
    "    if method == '1':  \n",
    "        movie_title = input(\"Введите название фильма: \")\n",
    "        return movie_title\n",
    "    elif method == '2':  \n",
    "        genre = input(\"Введите жанр: \")\n",
    "        return genre\n",
    "    elif method == '3':  \n",
    "        keyword = input(\"Введите ключевое слово: \")\n",
    "        return keyword\n",
    "    elif method == '4':  \n",
    "        star = input(\"Введите имя звезды (актера): \")\n",
    "        return star\n"
   ]
  },
  {
   "cell_type": "code",
   "execution_count": 90,
   "id": "339263b0-b940-42b9-a3e4-8c5e579ea5f6",
   "metadata": {},
   "outputs": [
    {
     "name": "stdout",
     "output_type": "stream",
     "text": [
      "Выберите метод получения рекомендаций:\n",
      "1. По похожести фильмов\n",
      "2. По жанру\n",
      "3. По ключевому слову\n",
      "4. По звезде (актеру)\n"
     ]
    },
    {
     "name": "stdin",
     "output_type": "stream",
     "text": [
      "Введите номер метода:  2\n",
      "Введите жанр:  horror\n"
     ]
    },
    {
     "name": "stdout",
     "output_type": "stream",
     "text": [
      "Рекомендации:\n",
      "Параметр             Название фильма                                    Описание                                                                                            \n",
      "horror               Psycho                                             A Phoenix secretary embezzles $40,000 from her employer's client, goes on the run, and checks into a remote motel run by a young man under the domination of his mother.\n",
      "horror               The Shining                                        A family heads to an isolated hotel for the winter where a sinister presence influences the father into violence, while his psychic son sees horrific forebodings from both past and future.\n",
      "horror               Alien                                              After a space merchant vessel receives an unknown transmission as a distress call, one of the crew is attacked by a mysterious life form and they soon realize that its life cycle has merely begun.\n",
      "horror               Tumbbad                                            A mythological story about a goddess who created the entire universe. The plot revolves around the consequences when humans build a temple for her first-born.\n",
      "horror               The Thing                                          A research team in Antarctica is hunted by a shape-shifting alien that assumes the appearance of its victims.\n",
      "horror               What Ever Happened to Baby Jane?                   A former child star torments her paraplegic sister in their decaying Hollywood mansion.             \n",
      "horror               Das Cabinet des Dr. Caligari                       Hypnotist Dr. Caligari uses a somnambulist, Cesare, to commit murders.                              \n"
     ]
    }
   ],
   "source": [
    "tfidf, tfidf_matrix = create_tfidf_matrix(df)\n",
    "knn_model = train_knn_model(tfidf_matrix)\n",
    "\n",
    "method = choose_recommendation_method()\n",
    "\n",
    "input_data = get_input_data(method)\n",
    "def get_recommendations(method, input_data, df, tfidf, knn_model):\n",
    "    if method == '1':\n",
    "        return get_similar_movies_recommendations(input_data, df, tfidf, knn_model)\n",
    "    elif method == '2':\n",
    "        return get_genre_recommendations(input_data, df)\n",
    "    elif method == '3':\n",
    "        return get_keyword_recommendations(input_data, df)\n",
    "    elif method == '4':\n",
    "        return get_star_recommendations(input_data, df)\n",
    "    else:\n",
    "        print(\"Неправильно выбран метод получения рекомендаций.\")\n",
    "        return None\n",
    "\n",
    "recommendations = get_recommendations(method, input_data, df, tfidf, knn_model)\n",
    "\n",
    "if recommendations is not None:\n",
    "    if not recommendations.empty:\n",
    "        print(\"Рекомендации:\")\n",
    "        print(f\"{'Параметр':<20} {'Название фильма':<50} {'Описание':<100}\")\n",
    "        for index, row in recommendations[['Series_Title', 'Overview']].head(7).iterrows():\n",
    "            print(f\"{input_data:<20} {row['Series_Title']:<50} {row['Overview']:<100}\")\n",
    "    else:\n",
    "        print(\"К сожалению, нет рекомендаций по указанным критериям.\")\n",
    "else:\n",
    "    print(\"Неправильно выбран метод получения рекомендаций.\")"
   ]
  }
 ],
 "metadata": {
  "kernelspec": {
   "display_name": "Python 3 (ipykernel)",
   "language": "python",
   "name": "python3"
  },
  "language_info": {
   "codemirror_mode": {
    "name": "ipython",
    "version": 3
   },
   "file_extension": ".py",
   "mimetype": "text/x-python",
   "name": "python",
   "nbconvert_exporter": "python",
   "pygments_lexer": "ipython3",
   "version": "3.10.6"
  }
 },
 "nbformat": 4,
 "nbformat_minor": 5
}
