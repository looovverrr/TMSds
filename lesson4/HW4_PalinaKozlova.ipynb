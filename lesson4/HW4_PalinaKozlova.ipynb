{
 "cells": [
  {
   "cell_type": "code",
   "execution_count": 48,
   "id": "5d619df9-90c2-4c9b-b753-8c10811d2924",
   "metadata": {},
   "outputs": [
    {
     "name": "stdout",
     "output_type": "stream",
     "text": [
      "2.775368323057839\n"
     ]
    }
   ],
   "source": [
    "#Написать функцию, вычисляющее значение функции при х = 1.79\n",
    "import math\n",
    "def uravnenie(x):\n",
    "    result=(math.cos(math.e**x)+math.log(1+x)**2+math.sqrt(math.e**math.cos(x)+math.sin(math.pi*x)**2)+math.sqrt(1/x)+math.cos(x**2))**math.sin(x)\n",
    "    return result\n",
    "x=1.79\n",
    "print(uravnenie(x))\n",
    "    "
   ]
  },
  {
   "cell_type": "code",
   "execution_count": 46,
   "id": "aaef72b3-3c93-4436-b9b0-a1b6a1281bbb",
   "metadata": {},
   "outputs": [
    {
     "name": "stdout",
     "output_type": "stream",
     "text": [
      "есть контакт\n"
     ]
    }
   ],
   "source": [
    "# Напишите функцию search_substr(subst, st)\n",
    "def search_substr(subst,st):\n",
    "    if st in subst:\n",
    "        print(\"есть контакт\")\n",
    "    else:\n",
    "        print(\"мимо\")\n",
    "subst=\"суши или пицца\"\n",
    "st=\"пицца\"\n",
    "search_substr(subst,st)"
   ]
  },
  {
   "cell_type": "code",
   "execution_count": 67,
   "id": "a5435a36-e0fd-4ae3-ac9e-3953daf06b52",
   "metadata": {},
   "outputs": [
    {
     "data": {
      "text/plain": [
       "[('n', 5), ('a', 2), ('j', 2)]"
      ]
     },
     "execution_count": 67,
     "metadata": {},
     "output_type": "execute_result"
    }
   ],
   "source": [
    "#На основании строки определить 3 наиболее часто встречаемых символа в ней.\n",
    "import collections\n",
    "stroka=\"asjcn         ajdnfcnefpnFenWN\"\n",
    "stroka_new=stroka.replace(\" \",\"\")\n",
    "count= collections.Counter(stroka_new)\n",
    "count.most_common(3)\n"
   ]
  },
  {
   "cell_type": "code",
   "execution_count": 8,
   "id": "edc3942b-def5-4792-ad12-97e2d88261b3",
   "metadata": {},
   "outputs": [
    {
     "name": "stdout",
     "output_type": "stream",
     "text": [
      "{5: 5, 3: 4, 7: 4}\n"
     ]
    }
   ],
   "source": [
    "#Дана строка в виде случайной последовательности чисел от 0 до 9\n",
    "import collections\n",
    "\n",
    "def count_it(sequence):\n",
    "    numbers = [int(char) for char in sequence]\n",
    "    counts = collections.Counter(numbers)\n",
    "    most_common = counts.most_common(3)\n",
    "    result = dict(most_common)\n",
    "    return result\n",
    "\n",
    "sequence = \"13574555786776433354689\"\n",
    "result = count_it(sequence)\n",
    "print(result)\n",
    "\n",
    "\n",
    "    \n",
    "    \n",
    "    \n",
    "    "
   ]
  },
  {
   "cell_type": "code",
   "execution_count": null,
   "id": "34e6b946-e195-4393-bb5b-e633e9814239",
   "metadata": {},
   "outputs": [],
   "source": [
    "#я не умею играть в шахматы ( \n"
   ]
  }
 ],
 "metadata": {
  "kernelspec": {
   "display_name": "Python 3 (ipykernel)",
   "language": "python",
   "name": "python3"
  },
  "language_info": {
   "codemirror_mode": {
    "name": "ipython",
    "version": 3
   },
   "file_extension": ".py",
   "mimetype": "text/x-python",
   "name": "python",
   "nbconvert_exporter": "python",
   "pygments_lexer": "ipython3",
   "version": "3.10.6"
  }
 },
 "nbformat": 4,
 "nbformat_minor": 5
}
