{
 "cells": [
  {
   "cell_type": "code",
   "execution_count": 44,
   "id": "initial_id",
   "metadata": {
    "collapsed": true,
    "ExecuteTime": {
     "end_time": "2024-06-14T11:11:32.729280400Z",
     "start_time": "2024-06-14T11:11:32.714282700Z"
    }
   },
   "outputs": [],
   "source": [
    "import pandas as pd\n",
    "import numpy as np\n",
    "from sklearn.model_selection import train_test_split\n",
    "from sklearn.base import BaseEstimator, TransformerMixin\n",
    "from sklearn.impute import SimpleImputer\n",
    "from sklearn.preprocessing import OneHotEncoder, MinMaxScaler\n",
    "from sklearn.compose import ColumnTransformer\n",
    "from sklearn.pipeline import Pipeline\n",
    "from sklearn.linear_model import LogisticRegression\n",
    "import optuna\n",
    "from sklearn.metrics import accuracy_score\n",
    "from sklearn.metrics import roc_auc_score"
   ]
  },
  {
   "cell_type": "code",
   "outputs": [],
   "source": [
    "df=pd.read_csv(\"suicide.csv\")"
   ],
   "metadata": {
    "collapsed": false,
    "ExecuteTime": {
     "end_time": "2024-06-14T11:04:39.189786200Z",
     "start_time": "2024-06-14T11:04:39.132103Z"
    }
   },
   "id": "b61d82f6b58cb2c9",
   "execution_count": 38
  },
  {
   "cell_type": "code",
   "outputs": [
    {
     "name": "stderr",
     "output_type": "stream",
     "text": [
      "C:\\Users\\User\\AppData\\Local\\Temp\\ipykernel_17808\\1399888604.py:2: FutureWarning: Setting an item of incompatible dtype is deprecated and will raise an error in a future version of pandas. Value 'High level of suicide' has dtype incompatible with int64, please explicitly cast to a compatible dtype first.\n",
      "  df.loc[index, 'suicides_no'] = 'High level of suicide'\n"
     ]
    }
   ],
   "source": [
    "index = df['suicides_no'] > df['suicides_no'].mean()\n",
    "df.loc[index, 'suicides_no'] = 'High level of suicide'\n",
    "df.loc[~index, 'suicides_no'] = 'Low level of suicide'"
   ],
   "metadata": {
    "collapsed": false,
    "ExecuteTime": {
     "end_time": "2024-06-14T11:04:40.029120900Z",
     "start_time": "2024-06-14T11:04:40.014445400Z"
    }
   },
   "id": "9ff019782c7c0bab",
   "execution_count": 39
  },
  {
   "cell_type": "code",
   "outputs": [
    {
     "name": "stdout",
     "output_type": "stream",
     "text": [
      "Numerical features: year, population, suicides/100k pop, HDI for year, gdp_per_capita ($)\n",
      "Categorical features:  gdp_for_year ($) , age, country, country-year, generation, sex\n"
     ]
    }
   ],
   "source": [
    "SEED = 42 # как random_state\n",
    "TARGET = 'suicides_no'\n",
    "FEATURES = df.columns.drop(TARGET)\n",
    "\n",
    "NUMERICAL = df[FEATURES].select_dtypes('number').columns\n",
    "print(f\"Numerical features: {', '.join(NUMERICAL)}\")\n",
    "\n",
    "CATEGORICAL = pd.Index(np.setdiff1d(FEATURES, NUMERICAL))\n",
    "print(f\"Categorical features: {', '.join(CATEGORICAL)}\")"
   ],
   "metadata": {
    "collapsed": false,
    "ExecuteTime": {
     "end_time": "2024-06-14T11:04:41.860025300Z",
     "start_time": "2024-06-14T11:04:41.829845700Z"
    }
   },
   "id": "c0ff114dd7e57e00",
   "execution_count": 40
  },
  {
   "cell_type": "code",
   "outputs": [
    {
     "data": {
      "text/plain": "           year  population  suicides/100k pop  HDI for year  \\\n3739   0.774194    0.013992           0.002889       0.63592   \n11438  0.387097    0.032543           0.323910       0.63592   \n27300  0.258065    0.005143           0.021692       0.63592   \n16612  0.129032    0.010860           0.077521       0.63592   \n3131   0.774194    0.000425           0.000000       0.63592   \n\n       gdp_per_capita ($)   gdp_for_year ($) _1,011,797,457,139  \\\n3739             0.375723                                   0.0   \n11438            0.036518                                   0.0   \n27300            0.039088                                   0.0   \n16612            0.022791                                   0.0   \n3131             0.132878                                   0.0   \n\n        gdp_for_year ($) _1,016,418,229   gdp_for_year ($) _1,018,847,043,277  \\\n3739                                0.0                                   0.0   \n11438                               0.0                                   0.0   \n27300                               0.0                                   0.0   \n16612                               0.0                                   0.0   \n3131                                0.0                                   0.0   \n\n        gdp_for_year ($) _1,022,191,296   gdp_for_year ($) _1,023,196,003,075  \\\n3739                                0.0                                   0.0   \n11438                               0.0                                   0.0   \n27300                               0.0                                   0.0   \n16612                               0.0                                   0.0   \n3131                                0.0                                   0.0   \n\n       ...  country-year_Uzbekistan2011  country-year_Uzbekistan2012  \\\n3739   ...                          0.0                          0.0   \n11438  ...                          0.0                          0.0   \n27300  ...                          0.0                          0.0   \n16612  ...                          0.0                          0.0   \n3131   ...                          0.0                          0.0   \n\n       country-year_Uzbekistan2013  country-year_Uzbekistan2014  \\\n3739                           0.0                          0.0   \n11438                          0.0                          0.0   \n27300                          0.0                          0.0   \n16612                          0.0                          0.0   \n3131                           0.0                          0.0   \n\n       generation_G.I. Generation  generation_Generation X  \\\n3739                          0.0                      0.0   \n11438                         0.0                      0.0   \n27300                         0.0                      0.0   \n16612                         1.0                      0.0   \n3131                          0.0                      0.0   \n\n       generation_Generation Z  generation_Millenials  generation_Silent  \\\n3739                       1.0                    0.0                0.0   \n11438                      0.0                    0.0                0.0   \n27300                      0.0                    0.0                0.0   \n16612                      0.0                    0.0                0.0   \n3131                       0.0                    1.0                0.0   \n\n       sex_male  \n3739        1.0  \n11438       1.0  \n27300       0.0  \n16612       1.0  \n3131        0.0  \n\n[5 rows x 4756 columns]",
      "text/html": "<div>\n<style scoped>\n    .dataframe tbody tr th:only-of-type {\n        vertical-align: middle;\n    }\n\n    .dataframe tbody tr th {\n        vertical-align: top;\n    }\n\n    .dataframe thead th {\n        text-align: right;\n    }\n</style>\n<table border=\"1\" class=\"dataframe\">\n  <thead>\n    <tr style=\"text-align: right;\">\n      <th></th>\n      <th>year</th>\n      <th>population</th>\n      <th>suicides/100k pop</th>\n      <th>HDI for year</th>\n      <th>gdp_per_capita ($)</th>\n      <th>gdp_for_year ($) _1,011,797,457,139</th>\n      <th>gdp_for_year ($) _1,016,418,229</th>\n      <th>gdp_for_year ($) _1,018,847,043,277</th>\n      <th>gdp_for_year ($) _1,022,191,296</th>\n      <th>gdp_for_year ($) _1,023,196,003,075</th>\n      <th>...</th>\n      <th>country-year_Uzbekistan2011</th>\n      <th>country-year_Uzbekistan2012</th>\n      <th>country-year_Uzbekistan2013</th>\n      <th>country-year_Uzbekistan2014</th>\n      <th>generation_G.I. Generation</th>\n      <th>generation_Generation X</th>\n      <th>generation_Generation Z</th>\n      <th>generation_Millenials</th>\n      <th>generation_Silent</th>\n      <th>sex_male</th>\n    </tr>\n  </thead>\n  <tbody>\n    <tr>\n      <th>3739</th>\n      <td>0.774194</td>\n      <td>0.013992</td>\n      <td>0.002889</td>\n      <td>0.63592</td>\n      <td>0.375723</td>\n      <td>0.0</td>\n      <td>0.0</td>\n      <td>0.0</td>\n      <td>0.0</td>\n      <td>0.0</td>\n      <td>...</td>\n      <td>0.0</td>\n      <td>0.0</td>\n      <td>0.0</td>\n      <td>0.0</td>\n      <td>0.0</td>\n      <td>0.0</td>\n      <td>1.0</td>\n      <td>0.0</td>\n      <td>0.0</td>\n      <td>1.0</td>\n    </tr>\n    <tr>\n      <th>11438</th>\n      <td>0.387097</td>\n      <td>0.032543</td>\n      <td>0.323910</td>\n      <td>0.63592</td>\n      <td>0.036518</td>\n      <td>0.0</td>\n      <td>0.0</td>\n      <td>0.0</td>\n      <td>0.0</td>\n      <td>0.0</td>\n      <td>...</td>\n      <td>0.0</td>\n      <td>0.0</td>\n      <td>0.0</td>\n      <td>0.0</td>\n      <td>0.0</td>\n      <td>0.0</td>\n      <td>0.0</td>\n      <td>0.0</td>\n      <td>0.0</td>\n      <td>1.0</td>\n    </tr>\n    <tr>\n      <th>27300</th>\n      <td>0.258065</td>\n      <td>0.005143</td>\n      <td>0.021692</td>\n      <td>0.63592</td>\n      <td>0.039088</td>\n      <td>0.0</td>\n      <td>0.0</td>\n      <td>0.0</td>\n      <td>0.0</td>\n      <td>0.0</td>\n      <td>...</td>\n      <td>0.0</td>\n      <td>0.0</td>\n      <td>0.0</td>\n      <td>0.0</td>\n      <td>0.0</td>\n      <td>0.0</td>\n      <td>0.0</td>\n      <td>0.0</td>\n      <td>0.0</td>\n      <td>0.0</td>\n    </tr>\n    <tr>\n      <th>16612</th>\n      <td>0.129032</td>\n      <td>0.010860</td>\n      <td>0.077521</td>\n      <td>0.63592</td>\n      <td>0.022791</td>\n      <td>0.0</td>\n      <td>0.0</td>\n      <td>0.0</td>\n      <td>0.0</td>\n      <td>0.0</td>\n      <td>...</td>\n      <td>0.0</td>\n      <td>0.0</td>\n      <td>0.0</td>\n      <td>0.0</td>\n      <td>1.0</td>\n      <td>0.0</td>\n      <td>0.0</td>\n      <td>0.0</td>\n      <td>0.0</td>\n      <td>1.0</td>\n    </tr>\n    <tr>\n      <th>3131</th>\n      <td>0.774194</td>\n      <td>0.000425</td>\n      <td>0.000000</td>\n      <td>0.63592</td>\n      <td>0.132878</td>\n      <td>0.0</td>\n      <td>0.0</td>\n      <td>0.0</td>\n      <td>0.0</td>\n      <td>0.0</td>\n      <td>...</td>\n      <td>0.0</td>\n      <td>0.0</td>\n      <td>0.0</td>\n      <td>0.0</td>\n      <td>0.0</td>\n      <td>0.0</td>\n      <td>0.0</td>\n      <td>1.0</td>\n      <td>0.0</td>\n      <td>0.0</td>\n    </tr>\n  </tbody>\n</table>\n<p>5 rows × 4756 columns</p>\n</div>"
     },
     "execution_count": 28,
     "metadata": {},
     "output_type": "execute_result"
    }
   ],
   "source": [
    "X_train, X_test, y_train, y_test = train_test_split(df.drop(columns=TARGET), df[TARGET],\n",
    "                                                    test_size=0.2, random_state=SEED,\n",
    "                                                    stratify=df[TARGET])\n",
    "num_imputer = SimpleImputer(strategy='mean')\n",
    "train_num_imputed = num_imputer.fit_transform(X_train[NUMERICAL])\n",
    "\n",
    "scaler = MinMaxScaler()\n",
    "train_num_scaled = scaler.fit_transform(train_num_imputed)\n",
    "\n",
    "cat_imputer = SimpleImputer(strategy='constant', fill_value='missing')\n",
    "train_cat_imputed = cat_imputer.fit_transform(X_train[CATEGORICAL])\n",
    "\n",
    "encoder = OneHotEncoder(drop='first', handle_unknown='ignore', sparse_output=False) # ?\n",
    "train_cat_encoded = encoder.fit_transform(train_cat_imputed)\n",
    "\n",
    "train_preprocessed = np.concatenate((train_num_scaled, train_cat_encoded), axis=1)\n",
    "\n",
    "columns = np.append(NUMERICAL, encoder.get_feature_names_out(CATEGORICAL))\n",
    "pd.DataFrame(train_preprocessed, columns=columns, index=X_train.index).head()"
   ],
   "metadata": {
    "collapsed": false,
    "ExecuteTime": {
     "end_time": "2024-06-14T10:08:36.353298100Z",
     "start_time": "2024-06-14T10:08:33.489300Z"
    }
   },
   "id": "a6c40e2f19ecab0d",
   "execution_count": 28
  },
  {
   "cell_type": "code",
   "outputs": [
    {
     "data": {
      "text/plain": "Pipeline(steps=[('preprocessors',\n                 ColumnTransformer(transformers=[('num',\n                                                  Pipeline(steps=[('imputer',\n                                                                   SimpleImputer()),\n                                                                  ('scaler',\n                                                                   MinMaxScaler())]),\n                                                  Index(['year', 'population', 'suicides/100k pop', 'HDI for year',\n       'gdp_per_capita ($)'],\n      dtype='object')),\n                                                 ('cat',\n                                                  Pipeline(steps=[('imputer',\n                                                                   SimpleImputer(fill_value='missing',\n                                                                                 strategy='constant')),\n                                                                  ('encoder',\n                                                                   OneHotEncoder(drop='first',\n                                                                                 handle_unknown='ignore',\n                                                                                 sparse_output=False))]),\n                                                  Index([' gdp_for_year ($) ', 'age', 'country', 'country-year', 'generation',\n       'sex'],\n      dtype='object'))])),\n                ('model', LogisticRegression())])",
      "text/html": "<style>#sk-container-id-1 {\n  /* Definition of color scheme common for light and dark mode */\n  --sklearn-color-text: black;\n  --sklearn-color-line: gray;\n  /* Definition of color scheme for unfitted estimators */\n  --sklearn-color-unfitted-level-0: #fff5e6;\n  --sklearn-color-unfitted-level-1: #f6e4d2;\n  --sklearn-color-unfitted-level-2: #ffe0b3;\n  --sklearn-color-unfitted-level-3: chocolate;\n  /* Definition of color scheme for fitted estimators */\n  --sklearn-color-fitted-level-0: #f0f8ff;\n  --sklearn-color-fitted-level-1: #d4ebff;\n  --sklearn-color-fitted-level-2: #b3dbfd;\n  --sklearn-color-fitted-level-3: cornflowerblue;\n\n  /* Specific color for light theme */\n  --sklearn-color-text-on-default-background: var(--sg-text-color, var(--theme-code-foreground, var(--jp-content-font-color1, black)));\n  --sklearn-color-background: var(--sg-background-color, var(--theme-background, var(--jp-layout-color0, white)));\n  --sklearn-color-border-box: var(--sg-text-color, var(--theme-code-foreground, var(--jp-content-font-color1, black)));\n  --sklearn-color-icon: #696969;\n\n  @media (prefers-color-scheme: dark) {\n    /* Redefinition of color scheme for dark theme */\n    --sklearn-color-text-on-default-background: var(--sg-text-color, var(--theme-code-foreground, var(--jp-content-font-color1, white)));\n    --sklearn-color-background: var(--sg-background-color, var(--theme-background, var(--jp-layout-color0, #111)));\n    --sklearn-color-border-box: var(--sg-text-color, var(--theme-code-foreground, var(--jp-content-font-color1, white)));\n    --sklearn-color-icon: #878787;\n  }\n}\n\n#sk-container-id-1 {\n  color: var(--sklearn-color-text);\n}\n\n#sk-container-id-1 pre {\n  padding: 0;\n}\n\n#sk-container-id-1 input.sk-hidden--visually {\n  border: 0;\n  clip: rect(1px 1px 1px 1px);\n  clip: rect(1px, 1px, 1px, 1px);\n  height: 1px;\n  margin: -1px;\n  overflow: hidden;\n  padding: 0;\n  position: absolute;\n  width: 1px;\n}\n\n#sk-container-id-1 div.sk-dashed-wrapped {\n  border: 1px dashed var(--sklearn-color-line);\n  margin: 0 0.4em 0.5em 0.4em;\n  box-sizing: border-box;\n  padding-bottom: 0.4em;\n  background-color: var(--sklearn-color-background);\n}\n\n#sk-container-id-1 div.sk-container {\n  /* jupyter's `normalize.less` sets `[hidden] { display: none; }`\n     but bootstrap.min.css set `[hidden] { display: none !important; }`\n     so we also need the `!important` here to be able to override the\n     default hidden behavior on the sphinx rendered scikit-learn.org.\n     See: https://github.com/scikit-learn/scikit-learn/issues/21755 */\n  display: inline-block !important;\n  position: relative;\n}\n\n#sk-container-id-1 div.sk-text-repr-fallback {\n  display: none;\n}\n\ndiv.sk-parallel-item,\ndiv.sk-serial,\ndiv.sk-item {\n  /* draw centered vertical line to link estimators */\n  background-image: linear-gradient(var(--sklearn-color-text-on-default-background), var(--sklearn-color-text-on-default-background));\n  background-size: 2px 100%;\n  background-repeat: no-repeat;\n  background-position: center center;\n}\n\n/* Parallel-specific style estimator block */\n\n#sk-container-id-1 div.sk-parallel-item::after {\n  content: \"\";\n  width: 100%;\n  border-bottom: 2px solid var(--sklearn-color-text-on-default-background);\n  flex-grow: 1;\n}\n\n#sk-container-id-1 div.sk-parallel {\n  display: flex;\n  align-items: stretch;\n  justify-content: center;\n  background-color: var(--sklearn-color-background);\n  position: relative;\n}\n\n#sk-container-id-1 div.sk-parallel-item {\n  display: flex;\n  flex-direction: column;\n}\n\n#sk-container-id-1 div.sk-parallel-item:first-child::after {\n  align-self: flex-end;\n  width: 50%;\n}\n\n#sk-container-id-1 div.sk-parallel-item:last-child::after {\n  align-self: flex-start;\n  width: 50%;\n}\n\n#sk-container-id-1 div.sk-parallel-item:only-child::after {\n  width: 0;\n}\n\n/* Serial-specific style estimator block */\n\n#sk-container-id-1 div.sk-serial {\n  display: flex;\n  flex-direction: column;\n  align-items: center;\n  background-color: var(--sklearn-color-background);\n  padding-right: 1em;\n  padding-left: 1em;\n}\n\n\n/* Toggleable style: style used for estimator/Pipeline/ColumnTransformer box that is\nclickable and can be expanded/collapsed.\n- Pipeline and ColumnTransformer use this feature and define the default style\n- Estimators will overwrite some part of the style using the `sk-estimator` class\n*/\n\n/* Pipeline and ColumnTransformer style (default) */\n\n#sk-container-id-1 div.sk-toggleable {\n  /* Default theme specific background. It is overwritten whether we have a\n  specific estimator or a Pipeline/ColumnTransformer */\n  background-color: var(--sklearn-color-background);\n}\n\n/* Toggleable label */\n#sk-container-id-1 label.sk-toggleable__label {\n  cursor: pointer;\n  display: block;\n  width: 100%;\n  margin-bottom: 0;\n  padding: 0.5em;\n  box-sizing: border-box;\n  text-align: center;\n}\n\n#sk-container-id-1 label.sk-toggleable__label-arrow:before {\n  /* Arrow on the left of the label */\n  content: \"▸\";\n  float: left;\n  margin-right: 0.25em;\n  color: var(--sklearn-color-icon);\n}\n\n#sk-container-id-1 label.sk-toggleable__label-arrow:hover:before {\n  color: var(--sklearn-color-text);\n}\n\n/* Toggleable content - dropdown */\n\n#sk-container-id-1 div.sk-toggleable__content {\n  max-height: 0;\n  max-width: 0;\n  overflow: hidden;\n  text-align: left;\n  /* unfitted */\n  background-color: var(--sklearn-color-unfitted-level-0);\n}\n\n#sk-container-id-1 div.sk-toggleable__content.fitted {\n  /* fitted */\n  background-color: var(--sklearn-color-fitted-level-0);\n}\n\n#sk-container-id-1 div.sk-toggleable__content pre {\n  margin: 0.2em;\n  border-radius: 0.25em;\n  color: var(--sklearn-color-text);\n  /* unfitted */\n  background-color: var(--sklearn-color-unfitted-level-0);\n}\n\n#sk-container-id-1 div.sk-toggleable__content.fitted pre {\n  /* unfitted */\n  background-color: var(--sklearn-color-fitted-level-0);\n}\n\n#sk-container-id-1 input.sk-toggleable__control:checked~div.sk-toggleable__content {\n  /* Expand drop-down */\n  max-height: 200px;\n  max-width: 100%;\n  overflow: auto;\n}\n\n#sk-container-id-1 input.sk-toggleable__control:checked~label.sk-toggleable__label-arrow:before {\n  content: \"▾\";\n}\n\n/* Pipeline/ColumnTransformer-specific style */\n\n#sk-container-id-1 div.sk-label input.sk-toggleable__control:checked~label.sk-toggleable__label {\n  color: var(--sklearn-color-text);\n  background-color: var(--sklearn-color-unfitted-level-2);\n}\n\n#sk-container-id-1 div.sk-label.fitted input.sk-toggleable__control:checked~label.sk-toggleable__label {\n  background-color: var(--sklearn-color-fitted-level-2);\n}\n\n/* Estimator-specific style */\n\n/* Colorize estimator box */\n#sk-container-id-1 div.sk-estimator input.sk-toggleable__control:checked~label.sk-toggleable__label {\n  /* unfitted */\n  background-color: var(--sklearn-color-unfitted-level-2);\n}\n\n#sk-container-id-1 div.sk-estimator.fitted input.sk-toggleable__control:checked~label.sk-toggleable__label {\n  /* fitted */\n  background-color: var(--sklearn-color-fitted-level-2);\n}\n\n#sk-container-id-1 div.sk-label label.sk-toggleable__label,\n#sk-container-id-1 div.sk-label label {\n  /* The background is the default theme color */\n  color: var(--sklearn-color-text-on-default-background);\n}\n\n/* On hover, darken the color of the background */\n#sk-container-id-1 div.sk-label:hover label.sk-toggleable__label {\n  color: var(--sklearn-color-text);\n  background-color: var(--sklearn-color-unfitted-level-2);\n}\n\n/* Label box, darken color on hover, fitted */\n#sk-container-id-1 div.sk-label.fitted:hover label.sk-toggleable__label.fitted {\n  color: var(--sklearn-color-text);\n  background-color: var(--sklearn-color-fitted-level-2);\n}\n\n/* Estimator label */\n\n#sk-container-id-1 div.sk-label label {\n  font-family: monospace;\n  font-weight: bold;\n  display: inline-block;\n  line-height: 1.2em;\n}\n\n#sk-container-id-1 div.sk-label-container {\n  text-align: center;\n}\n\n/* Estimator-specific */\n#sk-container-id-1 div.sk-estimator {\n  font-family: monospace;\n  border: 1px dotted var(--sklearn-color-border-box);\n  border-radius: 0.25em;\n  box-sizing: border-box;\n  margin-bottom: 0.5em;\n  /* unfitted */\n  background-color: var(--sklearn-color-unfitted-level-0);\n}\n\n#sk-container-id-1 div.sk-estimator.fitted {\n  /* fitted */\n  background-color: var(--sklearn-color-fitted-level-0);\n}\n\n/* on hover */\n#sk-container-id-1 div.sk-estimator:hover {\n  /* unfitted */\n  background-color: var(--sklearn-color-unfitted-level-2);\n}\n\n#sk-container-id-1 div.sk-estimator.fitted:hover {\n  /* fitted */\n  background-color: var(--sklearn-color-fitted-level-2);\n}\n\n/* Specification for estimator info (e.g. \"i\" and \"?\") */\n\n/* Common style for \"i\" and \"?\" */\n\n.sk-estimator-doc-link,\na:link.sk-estimator-doc-link,\na:visited.sk-estimator-doc-link {\n  float: right;\n  font-size: smaller;\n  line-height: 1em;\n  font-family: monospace;\n  background-color: var(--sklearn-color-background);\n  border-radius: 1em;\n  height: 1em;\n  width: 1em;\n  text-decoration: none !important;\n  margin-left: 1ex;\n  /* unfitted */\n  border: var(--sklearn-color-unfitted-level-1) 1pt solid;\n  color: var(--sklearn-color-unfitted-level-1);\n}\n\n.sk-estimator-doc-link.fitted,\na:link.sk-estimator-doc-link.fitted,\na:visited.sk-estimator-doc-link.fitted {\n  /* fitted */\n  border: var(--sklearn-color-fitted-level-1) 1pt solid;\n  color: var(--sklearn-color-fitted-level-1);\n}\n\n/* On hover */\ndiv.sk-estimator:hover .sk-estimator-doc-link:hover,\n.sk-estimator-doc-link:hover,\ndiv.sk-label-container:hover .sk-estimator-doc-link:hover,\n.sk-estimator-doc-link:hover {\n  /* unfitted */\n  background-color: var(--sklearn-color-unfitted-level-3);\n  color: var(--sklearn-color-background);\n  text-decoration: none;\n}\n\ndiv.sk-estimator.fitted:hover .sk-estimator-doc-link.fitted:hover,\n.sk-estimator-doc-link.fitted:hover,\ndiv.sk-label-container:hover .sk-estimator-doc-link.fitted:hover,\n.sk-estimator-doc-link.fitted:hover {\n  /* fitted */\n  background-color: var(--sklearn-color-fitted-level-3);\n  color: var(--sklearn-color-background);\n  text-decoration: none;\n}\n\n/* Span, style for the box shown on hovering the info icon */\n.sk-estimator-doc-link span {\n  display: none;\n  z-index: 9999;\n  position: relative;\n  font-weight: normal;\n  right: .2ex;\n  padding: .5ex;\n  margin: .5ex;\n  width: min-content;\n  min-width: 20ex;\n  max-width: 50ex;\n  color: var(--sklearn-color-text);\n  box-shadow: 2pt 2pt 4pt #999;\n  /* unfitted */\n  background: var(--sklearn-color-unfitted-level-0);\n  border: .5pt solid var(--sklearn-color-unfitted-level-3);\n}\n\n.sk-estimator-doc-link.fitted span {\n  /* fitted */\n  background: var(--sklearn-color-fitted-level-0);\n  border: var(--sklearn-color-fitted-level-3);\n}\n\n.sk-estimator-doc-link:hover span {\n  display: block;\n}\n\n/* \"?\"-specific style due to the `<a>` HTML tag */\n\n#sk-container-id-1 a.estimator_doc_link {\n  float: right;\n  font-size: 1rem;\n  line-height: 1em;\n  font-family: monospace;\n  background-color: var(--sklearn-color-background);\n  border-radius: 1rem;\n  height: 1rem;\n  width: 1rem;\n  text-decoration: none;\n  /* unfitted */\n  color: var(--sklearn-color-unfitted-level-1);\n  border: var(--sklearn-color-unfitted-level-1) 1pt solid;\n}\n\n#sk-container-id-1 a.estimator_doc_link.fitted {\n  /* fitted */\n  border: var(--sklearn-color-fitted-level-1) 1pt solid;\n  color: var(--sklearn-color-fitted-level-1);\n}\n\n/* On hover */\n#sk-container-id-1 a.estimator_doc_link:hover {\n  /* unfitted */\n  background-color: var(--sklearn-color-unfitted-level-3);\n  color: var(--sklearn-color-background);\n  text-decoration: none;\n}\n\n#sk-container-id-1 a.estimator_doc_link.fitted:hover {\n  /* fitted */\n  background-color: var(--sklearn-color-fitted-level-3);\n}\n</style><div id=\"sk-container-id-1\" class=\"sk-top-container\"><div class=\"sk-text-repr-fallback\"><pre>Pipeline(steps=[(&#x27;preprocessors&#x27;,\n                 ColumnTransformer(transformers=[(&#x27;num&#x27;,\n                                                  Pipeline(steps=[(&#x27;imputer&#x27;,\n                                                                   SimpleImputer()),\n                                                                  (&#x27;scaler&#x27;,\n                                                                   MinMaxScaler())]),\n                                                  Index([&#x27;year&#x27;, &#x27;population&#x27;, &#x27;suicides/100k pop&#x27;, &#x27;HDI for year&#x27;,\n       &#x27;gdp_per_capita ($)&#x27;],\n      dtype=&#x27;object&#x27;)),\n                                                 (&#x27;cat&#x27;,\n                                                  Pipeline(steps=[(&#x27;imputer&#x27;,\n                                                                   SimpleImputer(fill_value=&#x27;missing&#x27;,\n                                                                                 strategy=&#x27;constant&#x27;)),\n                                                                  (&#x27;encoder&#x27;,\n                                                                   OneHotEncoder(drop=&#x27;first&#x27;,\n                                                                                 handle_unknown=&#x27;ignore&#x27;,\n                                                                                 sparse_output=False))]),\n                                                  Index([&#x27; gdp_for_year ($) &#x27;, &#x27;age&#x27;, &#x27;country&#x27;, &#x27;country-year&#x27;, &#x27;generation&#x27;,\n       &#x27;sex&#x27;],\n      dtype=&#x27;object&#x27;))])),\n                (&#x27;model&#x27;, LogisticRegression())])</pre><b>In a Jupyter environment, please rerun this cell to show the HTML representation or trust the notebook. <br />On GitHub, the HTML representation is unable to render, please try loading this page with nbviewer.org.</b></div><div class=\"sk-container\" hidden><div class=\"sk-item sk-dashed-wrapped\"><div class=\"sk-label-container\"><div class=\"sk-label fitted sk-toggleable\"><input class=\"sk-toggleable__control sk-hidden--visually\" id=\"sk-estimator-id-1\" type=\"checkbox\" ><label for=\"sk-estimator-id-1\" class=\"sk-toggleable__label fitted sk-toggleable__label-arrow fitted\">&nbsp;&nbsp;Pipeline<a class=\"sk-estimator-doc-link fitted\" rel=\"noreferrer\" target=\"_blank\" href=\"https://scikit-learn.org/1.5/modules/generated/sklearn.pipeline.Pipeline.html\">?<span>Documentation for Pipeline</span></a><span class=\"sk-estimator-doc-link fitted\">i<span>Fitted</span></span></label><div class=\"sk-toggleable__content fitted\"><pre>Pipeline(steps=[(&#x27;preprocessors&#x27;,\n                 ColumnTransformer(transformers=[(&#x27;num&#x27;,\n                                                  Pipeline(steps=[(&#x27;imputer&#x27;,\n                                                                   SimpleImputer()),\n                                                                  (&#x27;scaler&#x27;,\n                                                                   MinMaxScaler())]),\n                                                  Index([&#x27;year&#x27;, &#x27;population&#x27;, &#x27;suicides/100k pop&#x27;, &#x27;HDI for year&#x27;,\n       &#x27;gdp_per_capita ($)&#x27;],\n      dtype=&#x27;object&#x27;)),\n                                                 (&#x27;cat&#x27;,\n                                                  Pipeline(steps=[(&#x27;imputer&#x27;,\n                                                                   SimpleImputer(fill_value=&#x27;missing&#x27;,\n                                                                                 strategy=&#x27;constant&#x27;)),\n                                                                  (&#x27;encoder&#x27;,\n                                                                   OneHotEncoder(drop=&#x27;first&#x27;,\n                                                                                 handle_unknown=&#x27;ignore&#x27;,\n                                                                                 sparse_output=False))]),\n                                                  Index([&#x27; gdp_for_year ($) &#x27;, &#x27;age&#x27;, &#x27;country&#x27;, &#x27;country-year&#x27;, &#x27;generation&#x27;,\n       &#x27;sex&#x27;],\n      dtype=&#x27;object&#x27;))])),\n                (&#x27;model&#x27;, LogisticRegression())])</pre></div> </div></div><div class=\"sk-serial\"><div class=\"sk-item sk-dashed-wrapped\"><div class=\"sk-label-container\"><div class=\"sk-label fitted sk-toggleable\"><input class=\"sk-toggleable__control sk-hidden--visually\" id=\"sk-estimator-id-2\" type=\"checkbox\" ><label for=\"sk-estimator-id-2\" class=\"sk-toggleable__label fitted sk-toggleable__label-arrow fitted\">&nbsp;preprocessors: ColumnTransformer<a class=\"sk-estimator-doc-link fitted\" rel=\"noreferrer\" target=\"_blank\" href=\"https://scikit-learn.org/1.5/modules/generated/sklearn.compose.ColumnTransformer.html\">?<span>Documentation for preprocessors: ColumnTransformer</span></a></label><div class=\"sk-toggleable__content fitted\"><pre>ColumnTransformer(transformers=[(&#x27;num&#x27;,\n                                 Pipeline(steps=[(&#x27;imputer&#x27;, SimpleImputer()),\n                                                 (&#x27;scaler&#x27;, MinMaxScaler())]),\n                                 Index([&#x27;year&#x27;, &#x27;population&#x27;, &#x27;suicides/100k pop&#x27;, &#x27;HDI for year&#x27;,\n       &#x27;gdp_per_capita ($)&#x27;],\n      dtype=&#x27;object&#x27;)),\n                                (&#x27;cat&#x27;,\n                                 Pipeline(steps=[(&#x27;imputer&#x27;,\n                                                  SimpleImputer(fill_value=&#x27;missing&#x27;,\n                                                                strategy=&#x27;constant&#x27;)),\n                                                 (&#x27;encoder&#x27;,\n                                                  OneHotEncoder(drop=&#x27;first&#x27;,\n                                                                handle_unknown=&#x27;ignore&#x27;,\n                                                                sparse_output=False))]),\n                                 Index([&#x27; gdp_for_year ($) &#x27;, &#x27;age&#x27;, &#x27;country&#x27;, &#x27;country-year&#x27;, &#x27;generation&#x27;,\n       &#x27;sex&#x27;],\n      dtype=&#x27;object&#x27;))])</pre></div> </div></div><div class=\"sk-parallel\"><div class=\"sk-parallel-item\"><div class=\"sk-item\"><div class=\"sk-label-container\"><div class=\"sk-label fitted sk-toggleable\"><input class=\"sk-toggleable__control sk-hidden--visually\" id=\"sk-estimator-id-3\" type=\"checkbox\" ><label for=\"sk-estimator-id-3\" class=\"sk-toggleable__label fitted sk-toggleable__label-arrow fitted\">num</label><div class=\"sk-toggleable__content fitted\"><pre>Index([&#x27;year&#x27;, &#x27;population&#x27;, &#x27;suicides/100k pop&#x27;, &#x27;HDI for year&#x27;,\n       &#x27;gdp_per_capita ($)&#x27;],\n      dtype=&#x27;object&#x27;)</pre></div> </div></div><div class=\"sk-serial\"><div class=\"sk-item\"><div class=\"sk-serial\"><div class=\"sk-item\"><div class=\"sk-estimator fitted sk-toggleable\"><input class=\"sk-toggleable__control sk-hidden--visually\" id=\"sk-estimator-id-4\" type=\"checkbox\" ><label for=\"sk-estimator-id-4\" class=\"sk-toggleable__label fitted sk-toggleable__label-arrow fitted\">&nbsp;SimpleImputer<a class=\"sk-estimator-doc-link fitted\" rel=\"noreferrer\" target=\"_blank\" href=\"https://scikit-learn.org/1.5/modules/generated/sklearn.impute.SimpleImputer.html\">?<span>Documentation for SimpleImputer</span></a></label><div class=\"sk-toggleable__content fitted\"><pre>SimpleImputer()</pre></div> </div></div><div class=\"sk-item\"><div class=\"sk-estimator fitted sk-toggleable\"><input class=\"sk-toggleable__control sk-hidden--visually\" id=\"sk-estimator-id-5\" type=\"checkbox\" ><label for=\"sk-estimator-id-5\" class=\"sk-toggleable__label fitted sk-toggleable__label-arrow fitted\">&nbsp;MinMaxScaler<a class=\"sk-estimator-doc-link fitted\" rel=\"noreferrer\" target=\"_blank\" href=\"https://scikit-learn.org/1.5/modules/generated/sklearn.preprocessing.MinMaxScaler.html\">?<span>Documentation for MinMaxScaler</span></a></label><div class=\"sk-toggleable__content fitted\"><pre>MinMaxScaler()</pre></div> </div></div></div></div></div></div></div><div class=\"sk-parallel-item\"><div class=\"sk-item\"><div class=\"sk-label-container\"><div class=\"sk-label fitted sk-toggleable\"><input class=\"sk-toggleable__control sk-hidden--visually\" id=\"sk-estimator-id-6\" type=\"checkbox\" ><label for=\"sk-estimator-id-6\" class=\"sk-toggleable__label fitted sk-toggleable__label-arrow fitted\">cat</label><div class=\"sk-toggleable__content fitted\"><pre>Index([&#x27; gdp_for_year ($) &#x27;, &#x27;age&#x27;, &#x27;country&#x27;, &#x27;country-year&#x27;, &#x27;generation&#x27;,\n       &#x27;sex&#x27;],\n      dtype=&#x27;object&#x27;)</pre></div> </div></div><div class=\"sk-serial\"><div class=\"sk-item\"><div class=\"sk-serial\"><div class=\"sk-item\"><div class=\"sk-estimator fitted sk-toggleable\"><input class=\"sk-toggleable__control sk-hidden--visually\" id=\"sk-estimator-id-7\" type=\"checkbox\" ><label for=\"sk-estimator-id-7\" class=\"sk-toggleable__label fitted sk-toggleable__label-arrow fitted\">&nbsp;SimpleImputer<a class=\"sk-estimator-doc-link fitted\" rel=\"noreferrer\" target=\"_blank\" href=\"https://scikit-learn.org/1.5/modules/generated/sklearn.impute.SimpleImputer.html\">?<span>Documentation for SimpleImputer</span></a></label><div class=\"sk-toggleable__content fitted\"><pre>SimpleImputer(fill_value=&#x27;missing&#x27;, strategy=&#x27;constant&#x27;)</pre></div> </div></div><div class=\"sk-item\"><div class=\"sk-estimator fitted sk-toggleable\"><input class=\"sk-toggleable__control sk-hidden--visually\" id=\"sk-estimator-id-8\" type=\"checkbox\" ><label for=\"sk-estimator-id-8\" class=\"sk-toggleable__label fitted sk-toggleable__label-arrow fitted\">&nbsp;OneHotEncoder<a class=\"sk-estimator-doc-link fitted\" rel=\"noreferrer\" target=\"_blank\" href=\"https://scikit-learn.org/1.5/modules/generated/sklearn.preprocessing.OneHotEncoder.html\">?<span>Documentation for OneHotEncoder</span></a></label><div class=\"sk-toggleable__content fitted\"><pre>OneHotEncoder(drop=&#x27;first&#x27;, handle_unknown=&#x27;ignore&#x27;, sparse_output=False)</pre></div> </div></div></div></div></div></div></div></div></div><div class=\"sk-item\"><div class=\"sk-estimator fitted sk-toggleable\"><input class=\"sk-toggleable__control sk-hidden--visually\" id=\"sk-estimator-id-9\" type=\"checkbox\" ><label for=\"sk-estimator-id-9\" class=\"sk-toggleable__label fitted sk-toggleable__label-arrow fitted\">&nbsp;LogisticRegression<a class=\"sk-estimator-doc-link fitted\" rel=\"noreferrer\" target=\"_blank\" href=\"https://scikit-learn.org/1.5/modules/generated/sklearn.linear_model.LogisticRegression.html\">?<span>Documentation for LogisticRegression</span></a></label><div class=\"sk-toggleable__content fitted\"><pre>LogisticRegression()</pre></div> </div></div></div></div></div></div>"
     },
     "execution_count": 29,
     "metadata": {},
     "output_type": "execute_result"
    }
   ],
   "source": [
    "numerical_pipe = Pipeline([\n",
    "    ('imputer', SimpleImputer(strategy='mean')),\n",
    "    ('scaler', MinMaxScaler())\n",
    "])\n",
    "\n",
    "categorical_pipe = Pipeline([\n",
    "    ('imputer', SimpleImputer(strategy='constant', fill_value='missing')),\n",
    "    ('encoder', OneHotEncoder(drop='first', handle_unknown='ignore', sparse_output=False))\n",
    "])\n",
    "\n",
    "preprocessors = ColumnTransformer(transformers=[\n",
    "    ('num', numerical_pipe, NUMERICAL),\n",
    "    ('cat', categorical_pipe, CATEGORICAL)\n",
    "])\n",
    "\n",
    "pipe = Pipeline([\n",
    "    ('preprocessors', preprocessors),\n",
    "    ('model', LogisticRegression())\n",
    "])\n",
    "\n",
    "pipe.fit(X_train, y_train)"
   ],
   "metadata": {
    "collapsed": false,
    "ExecuteTime": {
     "end_time": "2024-06-14T10:09:08.842882100Z",
     "start_time": "2024-06-14T10:09:01.232464500Z"
    }
   },
   "id": "a145c384a4b1538f",
   "execution_count": 29
  },
  {
   "cell_type": "code",
   "outputs": [
    {
     "name": "stdout",
     "output_type": "stream",
     "text": [
      "Train ROC-AUC: 0.9958\n",
      "Test ROC-AUC: 0.9881\n"
     ]
    }
   ],
   "source": [
    "print(f\"Train ROC-AUC: {calculate_roc_auc(pipe, X_train, y_train):.4f}\")\n",
    "print(f\"Test ROC-AUC: {calculate_roc_auc(pipe, X_test, y_test):.4f}\")"
   ],
   "metadata": {
    "collapsed": false,
    "ExecuteTime": {
     "end_time": "2024-06-14T11:04:00.976485500Z",
     "start_time": "2024-06-14T11:03:57.682766100Z"
    }
   },
   "id": "c9b6efcd55e4bd2a",
   "execution_count": 32
  },
  {
   "cell_type": "markdown",
   "source": [
    "# OPTUNA"
   ],
   "metadata": {
    "collapsed": false
   },
   "id": "176dd557a821ca2a"
  },
  {
   "cell_type": "code",
   "outputs": [
    {
     "name": "stderr",
     "output_type": "stream",
     "text": [
      "[I 2024-06-14 14:14:49,199] A new study created in memory with name: no-name-d411e879-c9c4-4ddc-b03a-a0d63fc4a037\n",
      "C:\\Users\\User\\AppData\\Local\\Temp\\ipykernel_17808\\548528251.py:2: FutureWarning: suggest_loguniform has been deprecated in v3.0.0. This feature will be removed in v6.0.0. See https://github.com/optuna/optuna/releases/tag/v3.0.0. Use suggest_float(..., log=True) instead.\n",
      "  logistic_regression_C = trial.suggest_loguniform('logistic_regression_C', 1e-4, 1e2)\n",
      "[I 2024-06-14 14:14:55,026] Trial 0 finished with value: 0.9541696621135873 and parameters: {'logistic_regression_C': 0.39503028741210927}. Best is trial 0 with value: 0.9541696621135873.\n",
      "C:\\Users\\User\\AppData\\Local\\Temp\\ipykernel_17808\\548528251.py:2: FutureWarning: suggest_loguniform has been deprecated in v3.0.0. This feature will be removed in v6.0.0. See https://github.com/optuna/optuna/releases/tag/v3.0.0. Use suggest_float(..., log=True) instead.\n",
      "  logistic_regression_C = trial.suggest_loguniform('logistic_regression_C', 1e-4, 1e2)\n",
      "[I 2024-06-14 14:14:59,563] Trial 1 finished with value: 0.9293673616103523 and parameters: {'logistic_regression_C': 0.0425868856810804}. Best is trial 0 with value: 0.9541696621135873.\n",
      "C:\\Users\\User\\AppData\\Local\\Temp\\ipykernel_17808\\548528251.py:2: FutureWarning: suggest_loguniform has been deprecated in v3.0.0. This feature will be removed in v6.0.0. See https://github.com/optuna/optuna/releases/tag/v3.0.0. Use suggest_float(..., log=True) instead.\n",
      "  logistic_regression_C = trial.suggest_loguniform('logistic_regression_C', 1e-4, 1e2)\n",
      "[I 2024-06-14 14:15:01,918] Trial 2 finished with value: 0.8306973400431344 and parameters: {'logistic_regression_C': 0.00025194233926271407}. Best is trial 0 with value: 0.9541696621135873.\n",
      "C:\\Users\\User\\AppData\\Local\\Temp\\ipykernel_17808\\548528251.py:2: FutureWarning: suggest_loguniform has been deprecated in v3.0.0. This feature will be removed in v6.0.0. See https://github.com/optuna/optuna/releases/tag/v3.0.0. Use suggest_float(..., log=True) instead.\n",
      "  logistic_regression_C = trial.suggest_loguniform('logistic_regression_C', 1e-4, 1e2)\n",
      "[I 2024-06-14 14:15:05,603] Trial 3 finished with value: 0.913371675053918 and parameters: {'logistic_regression_C': 0.025095987035252967}. Best is trial 0 with value: 0.9541696621135873.\n",
      "C:\\Users\\User\\AppData\\Local\\Temp\\ipykernel_17808\\548528251.py:2: FutureWarning: suggest_loguniform has been deprecated in v3.0.0. This feature will be removed in v6.0.0. See https://github.com/optuna/optuna/releases/tag/v3.0.0. Use suggest_float(..., log=True) instead.\n",
      "  logistic_regression_C = trial.suggest_loguniform('logistic_regression_C', 1e-4, 1e2)\n",
      "[I 2024-06-14 14:15:08,218] Trial 4 finished with value: 0.8306973400431344 and parameters: {'logistic_regression_C': 0.0002403921776417753}. Best is trial 0 with value: 0.9541696621135873.\n",
      "C:\\Users\\User\\AppData\\Local\\Temp\\ipykernel_17808\\548528251.py:2: FutureWarning: suggest_loguniform has been deprecated in v3.0.0. This feature will be removed in v6.0.0. See https://github.com/optuna/optuna/releases/tag/v3.0.0. Use suggest_float(..., log=True) instead.\n",
      "  logistic_regression_C = trial.suggest_loguniform('logistic_regression_C', 1e-4, 1e2)\n",
      "[I 2024-06-14 14:15:14,188] Trial 5 finished with value: 0.9545291157440691 and parameters: {'logistic_regression_C': 1.6981159849541192}. Best is trial 5 with value: 0.9545291157440691.\n",
      "C:\\Users\\User\\AppData\\Local\\Temp\\ipykernel_17808\\548528251.py:2: FutureWarning: suggest_loguniform has been deprecated in v3.0.0. This feature will be removed in v6.0.0. See https://github.com/optuna/optuna/releases/tag/v3.0.0. Use suggest_float(..., log=True) instead.\n",
      "  logistic_regression_C = trial.suggest_loguniform('logistic_regression_C', 1e-4, 1e2)\n",
      "[I 2024-06-14 14:15:20,203] Trial 6 finished with value: 0.9550682961897915 and parameters: {'logistic_regression_C': 2.6910996144553994}. Best is trial 6 with value: 0.9550682961897915.\n",
      "C:\\Users\\User\\AppData\\Local\\Temp\\ipykernel_17808\\548528251.py:2: FutureWarning: suggest_loguniform has been deprecated in v3.0.0. This feature will be removed in v6.0.0. See https://github.com/optuna/optuna/releases/tag/v3.0.0. Use suggest_float(..., log=True) instead.\n",
      "  logistic_regression_C = trial.suggest_loguniform('logistic_regression_C', 1e-4, 1e2)\n",
      "[I 2024-06-14 14:15:22,334] Trial 7 finished with value: 0.8317757009345794 and parameters: {'logistic_regression_C': 0.001860860431092869}. Best is trial 6 with value: 0.9550682961897915.\n",
      "C:\\Users\\User\\AppData\\Local\\Temp\\ipykernel_17808\\548528251.py:2: FutureWarning: suggest_loguniform has been deprecated in v3.0.0. This feature will be removed in v6.0.0. See https://github.com/optuna/optuna/releases/tag/v3.0.0. Use suggest_float(..., log=True) instead.\n",
      "  logistic_regression_C = trial.suggest_loguniform('logistic_regression_C', 1e-4, 1e2)\n",
      "[I 2024-06-14 14:15:28,557] Trial 8 finished with value: 0.953450754852624 and parameters: {'logistic_regression_C': 7.6365094887091605}. Best is trial 6 with value: 0.9550682961897915.\n",
      "C:\\Users\\User\\AppData\\Local\\Temp\\ipykernel_17808\\548528251.py:2: FutureWarning: suggest_loguniform has been deprecated in v3.0.0. This feature will be removed in v6.0.0. See https://github.com/optuna/optuna/releases/tag/v3.0.0. Use suggest_float(..., log=True) instead.\n",
      "  logistic_regression_C = trial.suggest_loguniform('logistic_regression_C', 1e-4, 1e2)\n",
      "[I 2024-06-14 14:15:32,277] Trial 9 finished with value: 0.8853342918763479 and parameters: {'logistic_regression_C': 0.012776274317994312}. Best is trial 6 with value: 0.9550682961897915.\n"
     ]
    },
    {
     "name": "stdout",
     "output_type": "stream",
     "text": [
      "Best trial:\n",
      "  Value: 0.9551\n",
      "  Params: \n",
      "    logistic_regression_C: 2.6910996144553994\n"
     ]
    }
   ],
   "source": [
    "def objective(trial):\n",
    "    logistic_regression_C = trial.suggest_loguniform('logistic_regression_C', 1e-4, 1e2)\n",
    "    pipe.named_steps['model'].C = logistic_regression_C\n",
    "    pipe.fit(X_train, y_train)\n",
    "    y_pred = pipe.predict(X_test)\n",
    "    accuracy = accuracy_score(y_test, y_pred)\n",
    "    \n",
    "    return accuracy\n",
    "study = optuna.create_study(direction='maximize')\n",
    "study.optimize(objective, n_trials=10)\n",
    "\n",
    "print('Best trial:')\n",
    "best_trial = study.best_trial\n",
    "print('  Value: {:.4f}'.format(best_trial.value))\n",
    "print('  Params: ')\n",
    "for key, value in best_trial.params.items():\n",
    "    print('    {}: {}'.format(key, value))\n",
    "best_pipe = pipe\n"
   ],
   "metadata": {
    "collapsed": false,
    "ExecuteTime": {
     "end_time": "2024-06-14T11:15:32.325330900Z",
     "start_time": "2024-06-14T11:14:49.202645400Z"
    }
   },
   "id": "5af235d193e4dd50",
   "execution_count": 47
  },
  {
   "cell_type": "markdown",
   "source": [],
   "metadata": {
    "collapsed": false
   },
   "id": "1155fa5869a95dee"
  }
 ],
 "metadata": {
  "kernelspec": {
   "display_name": "Python 3",
   "language": "python",
   "name": "python3"
  },
  "language_info": {
   "codemirror_mode": {
    "name": "ipython",
    "version": 2
   },
   "file_extension": ".py",
   "mimetype": "text/x-python",
   "name": "python",
   "nbconvert_exporter": "python",
   "pygments_lexer": "ipython2",
   "version": "2.7.6"
  }
 },
 "nbformat": 4,
 "nbformat_minor": 5
}
