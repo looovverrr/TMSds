{
 "cells": [
  {
   "cell_type": "code",
   "execution_count": 2,
   "id": "7deb8073-9b70-46ba-b3b9-a92c16dfd62c",
   "metadata": {},
   "outputs": [],
   "source": [
    "import numpy as np\n",
    "from scipy import stats\n",
    "import matplotlib.pyplot as plt\n",
    "from scipy.special import perm, comb, factorial"
   ]
  },
  {
   "cell_type": "markdown",
   "id": "b227f38b-67ee-4938-b02d-60c710627380",
   "metadata": {},
   "source": [
    "# Задача 1. В группе 30 студентов. Необходимо выбрать старосту, заместителя старосты и профорга. Сколько существует способов это сделать?"
   ]
  },
  {
   "cell_type": "code",
   "execution_count": 3,
   "id": "e7e2f8c6-e586-4685-992d-2bae30e7d2b6",
   "metadata": {},
   "outputs": [
    {
     "data": {
      "text/plain": [
       "24360.0"
      ]
     },
     "execution_count": 3,
     "metadata": {},
     "output_type": "execute_result"
    }
   ],
   "source": [
    "k = np.array(3)\n",
    "n = np.array(30)\n",
    "perm(n, k)"
   ]
  },
  {
   "cell_type": "markdown",
   "id": "25a99d52-e28b-4c93-be5b-ea341f7ac40b",
   "metadata": {},
   "source": [
    "# Задача 2. Два почтальона должны разнести 10 писем по 10 адресам. Сколькими способами они могут распределить работу?"
   ]
  },
  {
   "cell_type": "code",
   "execution_count": 4,
   "id": "f4944724-37f1-4b78-9c94-8b71fdbe6fb8",
   "metadata": {},
   "outputs": [
    {
     "data": {
      "text/plain": [
       "1024"
      ]
     },
     "execution_count": 4,
     "metadata": {},
     "output_type": "execute_result"
    }
   ],
   "source": [
    "k = np.array(2)\n",
    "n = np.array(10)\n",
    "2**10"
   ]
  },
  {
   "cell_type": "markdown",
   "id": "3fd87177-4a03-498f-a6a6-458ef457e449",
   "metadata": {},
   "source": [
    "# Задача 3. В ящике 100 деталей, из них 30 – деталей 1-го сорта, 50 – 2-го, остальные – 3-го. Сколько существует способов извлечения из ящика одной детали 1-го или 2-го сорта?"
   ]
  },
  {
   "cell_type": "code",
   "execution_count": 5,
   "id": "b935d333-db26-4266-8186-68d0ec4e0cea",
   "metadata": {},
   "outputs": [
    {
     "data": {
      "text/plain": [
       "80"
      ]
     },
     "execution_count": 5,
     "metadata": {},
     "output_type": "execute_result"
    }
   ],
   "source": [
    "k = np.array(30)\n",
    "n = np.array(50)\n",
    "n+k"
   ]
  },
  {
   "cell_type": "markdown",
   "id": "5c182716-97fc-454e-addf-eef8ded6dd94",
   "metadata": {},
   "source": [
    "# задача 5. Порядок выступления 7 участников конкурса определяется жребием. Сколько различных вариантов жеребьевки при этом возможно?"
   ]
  },
  {
   "cell_type": "code",
   "execution_count": 6,
   "id": "6bb7e09c-3429-4686-a836-4c6dea01ccb5",
   "metadata": {},
   "outputs": [
    {
     "data": {
      "text/plain": [
       "5040"
      ]
     },
     "execution_count": 6,
     "metadata": {},
     "output_type": "execute_result"
    }
   ],
   "source": [
    "k= np.array(7)\n",
    "factorial(k,exact=True)"
   ]
  },
  {
   "cell_type": "markdown",
   "id": "69c18fad-eb42-4d8c-8cc4-647a05d39244",
   "metadata": {},
   "source": [
    "# Задача 6. В конкурсе по 5 номинациям участвуют 10 кинофильмов. Сколько существует вариантов распределения призов, если по всем номинациям установлены различные премии?"
   ]
  },
  {
   "cell_type": "code",
   "execution_count": 7,
   "id": "a7fa0e12-8dfe-4995-b5cd-782c6db41648",
   "metadata": {},
   "outputs": [
    {
     "data": {
      "text/plain": [
       "100000"
      ]
     },
     "execution_count": 7,
     "metadata": {},
     "output_type": "execute_result"
    }
   ],
   "source": [
    "k=np.array(10)\n",
    "n=np.array(5)\n",
    "k**n"
   ]
  },
  {
   "cell_type": "markdown",
   "id": "e0562f32-2004-48a4-a399-3a755c6b194e",
   "metadata": {},
   "source": [
    "# Задача 7. В шахматном турнире участвуют 16 человек. Сколько партий должно быть сыграно в турнире, если между любыми двумя участниками должна быть сыграна одна партия?"
   ]
  },
  {
   "cell_type": "code",
   "execution_count": 9,
   "id": "c2ccd8bc-a4f9-4a10-a62a-65d686303d68",
   "metadata": {},
   "outputs": [
    {
     "data": {
      "text/plain": [
       "120"
      ]
     },
     "execution_count": 9,
     "metadata": {},
     "output_type": "execute_result"
    }
   ],
   "source": [
    "k = np.array(2)\n",
    "n = np.array(16)\n",
    "comb(n, k, exact=True, repetition=False)"
   ]
  },
  {
   "cell_type": "markdown",
   "id": "5935ae1f-de16-4d54-b969-84e46845c68c",
   "metadata": {},
   "source": [
    "# Задача 8. В условиях задачи 6 определить, сколько существует вариантов распределения призов, если по всем номинациям установлены одинаковые призы"
   ]
  },
  {
   "cell_type": "code",
   "execution_count": 12,
   "id": "ea3ffd18-4aa1-4912-a181-3f0181dfbd4c",
   "metadata": {},
   "outputs": [
    {
     "data": {
      "text/plain": [
       "2002"
      ]
     },
     "execution_count": 12,
     "metadata": {},
     "output_type": "execute_result"
    }
   ],
   "source": [
    "k = np.array(5)\n",
    "n = np.array(10)\n",
    "comb(n, k, exact=True, repetition=True)"
   ]
  },
  {
   "cell_type": "markdown",
   "id": "9c055deb-a3a3-4efe-918b-aded2299e8ed",
   "metadata": {},
   "source": [
    "# Задача 9. Садовник должен в течении трех дней посадить 6 деревьев. Сколькими способами он может распределить по дням работу, если будет сажать не менее одного дерева в день? "
   ]
  },
  {
   "cell_type": "markdown",
   "id": "5eccafd8-1786-4791-8e80-51401d234a56",
   "metadata": {},
   "source": [
    "# Задача 10. Сколько существует четырехзначных чисел (возможно, начинающихся с нуля),  сумма цифр которых равна 5?"
   ]
  },
  {
   "cell_type": "markdown",
   "id": "6069971d-e8d4-4eb8-8ed5-fab2e3a74cab",
   "metadata": {},
   "source": [
    "# Задача 11. Сколькими способами можно разбить группу из 25 студентов на три подгруппы А, В и С по 6, 9 и 10 человек соответственно?"
   ]
  },
  {
   "cell_type": "code",
   "execution_count": 14,
   "id": "be67bdb7-717a-45b3-ae87-4f63e448182e",
   "metadata": {},
   "outputs": [
    {
     "data": {
      "text/plain": [
       "16360143799.999998"
      ]
     },
     "execution_count": 14,
     "metadata": {},
     "output_type": "execute_result"
    }
   ],
   "source": [
    "k=np.array(25)\n",
    "n=np.array(6)\n",
    "p=np.array(9)\n",
    "c=np.array(10)\n",
    "factorial(k)/(factorial(n)*factorial(p)*factorial(c))"
   ]
  },
  {
   "cell_type": "markdown",
   "id": "a69f5591-ea09-4d16-b28a-67ac1ad3b8cc",
   "metadata": {},
   "source": [
    "# Задача 12. Сколько существует семизначных чисел, состоящих из цифр 4, 5 и 6, в которых цифра 4 повторяется 3 раза, а цифры 5 и 6 – по 2 раза?"
   ]
  },
  {
   "cell_type": "code",
   "execution_count": 15,
   "id": "4f2474bb-e315-402f-9a87-da1e5bca6e22",
   "metadata": {},
   "outputs": [
    {
     "data": {
      "text/plain": [
       "210.0"
      ]
     },
     "execution_count": 15,
     "metadata": {},
     "output_type": "execute_result"
    }
   ],
   "source": [
    "k=np.array(7)\n",
    "n=np.array(2)\n",
    "p=np.array(2)\n",
    "c=np.array(3)\n",
    "factorial(k)/(factorial(n)*factorial(p)*factorial(c))"
   ]
  },
  {
   "cell_type": "markdown",
   "id": "8b3486ad-cad8-45b8-adbf-2561b45cc3e2",
   "metadata": {},
   "source": [
    "# Задача 1. В ящике 5 апельсинов и 4 яблока. Наудачу выбираются 3 фрукта. Какова вероятность, что все три фрукта – апельсины?"
   ]
  },
  {
   "cell_type": "code",
   "execution_count": 22,
   "id": "643bb714-6d54-442c-8930-e8a36decde73",
   "metadata": {},
   "outputs": [
    {
     "data": {
      "text/plain": [
       "0.11904761904761904"
      ]
     },
     "execution_count": 22,
     "metadata": {},
     "output_type": "execute_result"
    }
   ],
   "source": [
    "k = np.array(3)\n",
    "n = np.array(5)\n",
    "x1=comb(n, k, exact=True, repetition=False)\n",
    "f = np.array(3)\n",
    "z = np.array(9)\n",
    "x2=comb(z,f, exact=True, repetition=False)\n",
    "x1/x2"
   ]
  },
  {
   "cell_type": "markdown",
   "id": "0a7be31f-caea-49dc-9c9e-26033e884202",
   "metadata": {},
   "source": [
    "# Задача 2. Преподаватель предлагает каждому из трех студентов задумать любое число от 1 до 10. Считая, что выбор каждым из студентов любого числа из заданных равновозможен, найти вероятность того, что у кого-то из них задуманные числа совпадут"
   ]
  },
  {
   "cell_type": "code",
   "execution_count": 16,
   "id": "69d77be9-fa27-4729-aa97-aa5b69cd75fa",
   "metadata": {},
   "outputs": [
    {
     "data": {
      "text/plain": [
       "0.28"
      ]
     },
     "execution_count": 16,
     "metadata": {},
     "output_type": "execute_result"
    }
   ],
   "source": [
    "k = np.array(10)\n",
    "n = np.array(9)\n",
    "b= np.array(8)\n",
    "l=np.array(1)\n",
    "ver=1-(comb(k,l)*comb(n,l)*comb(b,l)/1000)\n",
    "ver"
   ]
  },
  {
   "cell_type": "markdown",
   "id": "07961d64-b40b-411f-a5a7-5b2bc6e68e25",
   "metadata": {},
   "source": [
    "# Задача 3. Найти вероятность того, что в 8-значном числе ровно 4 цифры совпадают, а остальные различны."
   ]
  },
  {
   "cell_type": "code",
   "execution_count": 12,
   "id": "764bed84-976d-4ba3-b8a4-f4087c304574",
   "metadata": {},
   "outputs": [
    {
     "data": {
      "text/plain": [
       "0.021168"
      ]
     },
     "execution_count": 12,
     "metadata": {},
     "output_type": "execute_result"
    }
   ],
   "source": [
    "k = np.array(4)\n",
    "n = np.array(8)\n",
    "x1=comb(n, k, exact=True, repetition=False)\n",
    "m= np.array(9)\n",
    "r=np.array(4)\n",
    "x2=perm(m,r)\n",
    "ver=x1*10*x2/10**8\n",
    "ver\n"
   ]
  },
  {
   "cell_type": "markdown",
   "id": "23401db7-63be-4ea0-89ec-8ee8e3c69d2b",
   "metadata": {},
   "source": [
    "# Задача 4. Шесть клиентов случайным образом обращаются в 5 фирм. Найти вероятность того, что хотя бы в одну фирму никто не обратится."
   ]
  },
  {
   "cell_type": "code",
   "execution_count": null,
   "id": "49fe936c-6ceb-4028-bb63-478bf1cdf003",
   "metadata": {},
   "outputs": [],
   "source": []
  },
  {
   "cell_type": "markdown",
   "id": "502faa11-335d-41c4-8ada-535b9e5a4152",
   "metadata": {},
   "source": [
    "# Задача 1. В ящике 10 красных и 5 синих пуговиц. Вынимаются наудачу две пуговицы.  Какова вероятность, что пуговицы будут одноцветными?"
   ]
  },
  {
   "cell_type": "code",
   "execution_count": 25,
   "id": "1cf600a0-df1f-4233-9637-3105b02c2c9c",
   "metadata": {},
   "outputs": [
    {
     "data": {
      "text/plain": [
       "0.5238095238095238"
      ]
     },
     "execution_count": 25,
     "metadata": {},
     "output_type": "execute_result"
    }
   ],
   "source": [
    "k = np.array(2)\n",
    "n = np.array(15)\n",
    "x_vsego=comb(n, k, exact=True, repetition=False)\n",
    "f = np.array(2)\n",
    "z = np.array(10)\n",
    "x_krasnye=comb(z,f, exact=True, repetition=False)\n",
    "q = np.array(2)\n",
    "a = np.array(5)\n",
    "x_sinie=comb(a,q, exact=True, repetition=False)\n",
    "ver= (x_sinie+x_krasnye)/x_vsego\n",
    "ver"
   ]
  },
  {
   "cell_type": "markdown",
   "id": "81148a8d-4410-485f-8741-80c77b14cc30",
   "metadata": {},
   "source": [
    "# Задача 2. Среди сотрудников фирмы 28% знают английский язык, 30% – немецкий, 42% –  французский; английский и немецкий – 8%, английский и французский – 10%, немецкий и французский – 5%, все три языка – 3%. Найти вероятность того, что случайно выбранный сотрудник фирмы: а) знает английский или немецкий; б) знает английский, немецкий или французский; в) не знает ни один из перечисленных языков."
   ]
  },
  {
   "cell_type": "code",
   "execution_count": 38,
   "id": "52f65cf8-ca4e-494b-8b98-ebbad5e3e3bf",
   "metadata": {},
   "outputs": [
    {
     "name": "stdout",
     "output_type": "stream",
     "text": [
      "50.000000000000014 % знают англ и нем\n",
      "71.00000000000001 % знает английский, немецкий или французский\n",
      "0.0 хотя бы один сотрудник знает каждый язык\n"
     ]
    }
   ],
   "source": [
    "a= np.array(0.28)\n",
    "b= np.array(0.3)\n",
    "fr=np.array(0.42)\n",
    "ang_fr=np.array(0.1)\n",
    "nem_fr=np.array(0.05)\n",
    "a_b= np.array(0.08)\n",
    "vse=np.array(0.03)\n",
    "ab_ver= a+b-a_b\n",
    "print(ab_ver*100,\"% знают англ и нем\")\n",
    "abc_ver= a+b+fr-a_b-ang_fr-a_b-vse\n",
    "print(abc_ver*100,\"% знает английский, немецкий или французский\" )\n",
    "niodin=1-a-b-fr\n",
    "print(niodin, \"хотя бы один сотрудник знает каждый язык\")"
   ]
  },
  {
   "cell_type": "markdown",
   "id": "02cac294-5335-437c-8531-6318b6fc06e8",
   "metadata": {},
   "source": [
    "# Задача 3. В семье – двое детей. Какова вероятность, что старший ребенок – мальчик, если известно, что в семье есть дети обоего пола?"
   ]
  },
  {
   "cell_type": "code",
   "execution_count": 36,
   "id": "cc4c0ec9-db96-4be4-91f9-3f5400620534",
   "metadata": {},
   "outputs": [
    {
     "name": "stdout",
     "output_type": "stream",
     "text": [
      "50 %\n"
     ]
    }
   ],
   "source": [
    "print(\"50 %\")"
   ]
  }
 ],
 "metadata": {
  "kernelspec": {
   "display_name": "Python 3 (ipykernel)",
   "language": "python",
   "name": "python3"
  },
  "language_info": {
   "codemirror_mode": {
    "name": "ipython",
    "version": 3
   },
   "file_extension": ".py",
   "mimetype": "text/x-python",
   "name": "python",
   "nbconvert_exporter": "python",
   "pygments_lexer": "ipython3",
   "version": "3.10.6"
  }
 },
 "nbformat": 4,
 "nbformat_minor": 5
}
